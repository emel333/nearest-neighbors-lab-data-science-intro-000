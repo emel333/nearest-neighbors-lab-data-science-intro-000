{
 "cells": [
  {
   "cell_type": "markdown",
   "metadata": {},
   "source": [
    "# Nearest Neighbors Lab"
   ]
  },
  {
   "cell_type": "markdown",
   "metadata": {},
   "source": [
    "### Introduction\n",
    "\n",
    "In this lab, you apply nearest neighbors technique to help a taxi company predict the length of their rides.  Imagine that we are hired to consult for LiftOff, a limo and taxi service that is just opening up in NYC.  Liftoff wants it's taxi drivers to target longer rides, as the longer the ride the more money it makes.  LiftOff has the following theory:\n",
    "\n",
    "* the pickup location of a taxi ride can help predict the length of the ride.  \n",
    "\n",
    "\n",
    "\n",
    "LiftOff asks us to do some analysis to write a function that will allow it to **predict the length of a taxi ride for any given location **.\n",
    "\n",
    "Our technique will be the following:\n",
    "  * **Collect** Obtain the data containing all of the taxi information, and only select the attributes of taxi trips that we need \n",
    "  * ** Explore ** Examine the attributes of our data, and plot some of our data on a map\n",
    "  * ** Train ** Write our nearest neighbors formula, and change the number of nearby trips to predict the length of a new trip\n",
    "  * ** Predict ** Use our function to predict trip lengths of new locations"
   ]
  },
  {
   "cell_type": "markdown",
   "metadata": {},
   "source": [
    "### Collect and Explore the data"
   ]
  },
  {
   "cell_type": "markdown",
   "metadata": {},
   "source": [
    "#### Collect the Data"
   ]
  },
  {
   "cell_type": "markdown",
   "metadata": {},
   "source": [
    "Luckily for us, [NYC Open Data](https://opendata.cityofnewyork.us/) collects information about NYC taxi trips and provides this data on [its website](https://data.cityofnewyork.us/Transportation/2014-Yellow-Taxi-Trip-Data/gn7m-em8n)."
   ]
  },
  {
   "cell_type": "markdown",
   "metadata": {},
   "source": [
    "![](./nyc-taxi.png)"
   ]
  },
  {
   "cell_type": "markdown",
   "metadata": {},
   "source": [
    "For your reading pleasure, the data has already been downloaded into the [trips.json](https://github.com/learn-co-curriculum/nearest-neighbors-lab/blob/master/trips.json) file in this lab which you can find here.  We'll use Python's `json` library to take the data from the `trips.json` file and store it as a variable in our notebook."
   ]
  },
  {
   "cell_type": "code",
   "execution_count": 53,
   "metadata": {},
   "outputs": [],
   "source": [
    "import json\n",
    "# First, read the file\n",
    "trips_file = open('trips.json')\n",
    "# Then, convert contents to list of dictionaries \n",
    "trips = json.load(trips_file)"
   ]
  },
  {
   "cell_type": "markdown",
   "metadata": {},
   "source": [
    "> Press shift + enter"
   ]
  },
  {
   "cell_type": "markdown",
   "metadata": {},
   "source": [
    "#### Explore the data"
   ]
  },
  {
   "cell_type": "markdown",
   "metadata": {},
   "source": [
    "The next step is to explore the data.  First, let's see how many trips we have."
   ]
  },
  {
   "cell_type": "code",
   "execution_count": 54,
   "metadata": {},
   "outputs": [
    {
     "data": {
      "text/plain": [
       "1000"
      ]
     },
     "execution_count": 54,
     "metadata": {},
     "output_type": "execute_result"
    }
   ],
   "source": [
    "len(trips)"
   ]
  },
  {
   "cell_type": "markdown",
   "metadata": {},
   "source": [
    "Not bad at all.  Now let's see what each individual trip looks like.  Each trip is a dictionary, so we can see the attributes of each trip with the `keys` function."
   ]
  },
  {
   "cell_type": "code",
   "execution_count": 55,
   "metadata": {
    "scrolled": true
   },
   "outputs": [
    {
     "data": {
      "text/plain": [
       "dict_keys(['dropoff_datetime', 'dropoff_latitude', 'dropoff_longitude', 'fare_amount', 'imp_surcharge', 'mta_tax', 'passenger_count', 'payment_type', 'pickup_datetime', 'pickup_latitude', 'pickup_longitude', 'rate_code', 'tip_amount', 'tolls_amount', 'total_amount', 'trip_distance', 'vendor_id'])"
      ]
     },
     "execution_count": 55,
     "metadata": {},
     "output_type": "execute_result"
    }
   ],
   "source": [
    "trips[0].keys()"
   ]
  },
  {
   "cell_type": "markdown",
   "metadata": {},
   "source": [
    "#### Limit our data"
   ]
  },
  {
   "cell_type": "markdown",
   "metadata": {},
   "source": [
    "Ok, now that we have explored some of our data, let's begin to think through what data is relevant for our task."
   ]
  },
  {
   "cell_type": "markdown",
   "metadata": {
    "collapsed": true
   },
   "source": [
    "Remember that our task is to **use the trip location to predict the length of a trip**.  So let's select the `pickup_latitude`, `pickup_longitude`, and `trip_distance` from each trip.  That will give us the trip location and related `trip_distance` for each trip.  Then based on these **actual** trip distances we can use nearest neighbors to predict an **expected** trip distance for a trip, provided an **actual** location."
   ]
  },
  {
   "cell_type": "markdown",
   "metadata": {},
   "source": [
    "** Add in about trip distance ** "
   ]
  },
  {
   "cell_type": "markdown",
   "metadata": {},
   "source": [
    "Write a function called `parse_trips(trips)` that returns a list of the trips with only the following attributes: \n",
    "* `trip_distance`\n",
    "* `pickup_latitude`\n",
    "* `pickup_longitude`"
   ]
  },
  {
   "cell_type": "code",
   "execution_count": 56,
   "metadata": {},
   "outputs": [],
   "source": [
    "def parse_trips(trips):\n",
    "    uhum = {'pickup_latitude', 'pickup_longitude', 'trip_distance'}\n",
    "    leggo = list(map(lambda nyc: {k:v for k,v in nyc.items() if k in uhum}, trips))\n",
    "    return leggo"
   ]
  },
  {
   "cell_type": "code",
   "execution_count": 57,
   "metadata": {},
   "outputs": [
    {
     "data": {
      "text/plain": [
       "{'pickup_latitude': '40.64499',\n",
       " 'pickup_longitude': '-73.781149999999997',\n",
       " 'trip_distance': '18.379999999999999'}"
      ]
     },
     "execution_count": 57,
     "metadata": {},
     "output_type": "execute_result"
    }
   ],
   "source": [
    "parsed_trips = parse_trips(trips)\n",
    "parsed_trips and parsed_trips[0]\n",
    "\n",
    "# {'pickup_latitude': '40.64499',\n",
    "#  'pickup_longitude': '-73.78115',\n",
    "#  'trip_distance': '18.38'}"
   ]
  },
  {
   "cell_type": "markdown",
   "metadata": {},
   "source": [
    "Now, there's just one change to make.  If you look at one of the trips, all of the values are strings.  Let's change them to be floats."
   ]
  },
  {
   "cell_type": "code",
   "execution_count": 58,
   "metadata": {},
   "outputs": [],
   "source": [
    "def float_values(trips):    \n",
    "    hmm = list(map(lambda flo: {(k,float(v)) for k,v in flo.items()}, parsed_trips))\n",
    "    return hmm"
   ]
  },
  {
   "cell_type": "code",
   "execution_count": 59,
   "metadata": {},
   "outputs": [],
   "source": [
    "cleaned_trips = float_values(parsed_trips)"
   ]
  },
  {
   "cell_type": "code",
   "execution_count": 86,
   "metadata": {},
   "outputs": [
    {
     "data": {
      "text/plain": [
       "{('pickup_latitude', 40.64499),\n",
       " ('pickup_longitude', -73.78115),\n",
       " ('trip_distance', 18.38)}"
      ]
     },
     "execution_count": 86,
     "metadata": {},
     "output_type": "execute_result"
    }
   ],
   "source": [
    "cleaned_trips[0]\n",
    "\n",
    "# {'pickup_latitude': 40.64499,\n",
    "#  'pickup_longitude': -73.78115,\n",
    "#  'trip_distance': 18.38}"
   ]
  },
  {
   "cell_type": "markdown",
   "metadata": {},
   "source": [
    "### Exploring the Data"
   ]
  },
  {
   "cell_type": "markdown",
   "metadata": {},
   "source": [
    "Now that we have paired down our data, let's get a sense of our trip data.  We can use the `folium` Python library to plot a map of Manhattan, and our data.  First we must import `folium`, and then use the `Map` function to pass through a `location`, and `zoom_start`.  If a map isn't showing up below, copy and paste the command `pip install -r requirements.txt` into your terminal to install `folium` then try again."
   ]
  },
  {
   "cell_type": "code",
   "execution_count": 61,
   "metadata": {},
   "outputs": [],
   "source": [
    "import folium\n",
    "manhattan_map = folium.Map(location=[40.7589, -73.9851], zoom_start=11)"
   ]
  },
  {
   "cell_type": "code",
   "execution_count": 62,
   "metadata": {
    "scrolled": true
   },
   "outputs": [
    {
     "data": {
      "text/html": [
       "<div style=\"width:100%;\"><div style=\"position:relative;width:100%;height:0;padding-bottom:60%;\"><iframe src=\"data:text/html;charset=utf-8;base64,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\" style=\"position:absolute;width:100%;height:100%;left:0;top:0;border:none !important;\" allowfullscreen webkitallowfullscreen mozallowfullscreen></iframe></div></div>"
      ],
      "text/plain": [
       "<folium.folium.Map at 0x7fc238261390>"
      ]
     },
     "execution_count": 62,
     "metadata": {},
     "output_type": "execute_result"
    }
   ],
   "source": [
    "manhattan_map"
   ]
  },
  {
   "cell_type": "markdown",
   "metadata": {},
   "source": [
    "Ok, now let's see how we could add a dot to mark a specific location.  We'll start with Times Square."
   ]
  },
  {
   "cell_type": "code",
   "execution_count": 63,
   "metadata": {},
   "outputs": [
    {
     "data": {
      "text/plain": [
       "<folium.vector_layers.CircleMarker at 0x7fc238261ef0>"
      ]
     },
     "execution_count": 63,
     "metadata": {},
     "output_type": "execute_result"
    }
   ],
   "source": [
    "marker = folium.CircleMarker(location = [40.7589, -73.9851], radius=10)\n",
    "marker.add_to(manhattan_map)"
   ]
  },
  {
   "cell_type": "markdown",
   "metadata": {},
   "source": [
    "Above, we first create a marker.  Then we add that circle marker to the `manhattan_map` we created earlier. "
   ]
  },
  {
   "cell_type": "code",
   "execution_count": 85,
   "metadata": {
    "scrolled": false
   },
   "outputs": [
    {
     "data": {
      "text/html": [
       "<div style=\"width:100%;\"><div style=\"position:relative;width:100%;height:0;padding-bottom:60%;\"><iframe src=\"data:text/html;charset=utf-8;base64,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\" style=\"position:absolute;width:100%;height:100%;left:0;top:0;border:none !important;\" allowfullscreen webkitallowfullscreen mozallowfullscreen></iframe></div></div>"
      ],
      "text/plain": [
       "<folium.folium.Map at 0x7fc238261390>"
      ]
     },
     "execution_count": 85,
     "metadata": {},
     "output_type": "execute_result"
    }
   ],
   "source": [
    "manhattan_map"
   ]
  },
  {
   "cell_type": "markdown",
   "metadata": {},
   "source": [
    "Do you see that blue dot near Time's Square?  That is our marker.  \n",
    "\n",
    "So now that we can plot one marker on a map, we should have a sense of how we can plot many markers on a map to display our taxi ride data.  We simply plot a map, and then we add a marker for each location of a taxi trip.\n",
    "\n",
    "Now let's write some functions to allow us to plot maps and add markers a little more easily.  "
   ]
  },
  {
   "cell_type": "markdown",
   "metadata": {},
   "source": [
    "#### Writing some map plotting functions"
   ]
  },
  {
   "cell_type": "markdown",
   "metadata": {},
   "source": [
    "As a first step towards this, note that the functions to create both a marker and map each take in a location as two element list, representing the latitude and longitude values.  Take another look:\n",
    "\n",
    "```python\n",
    "marker = folium.CircleMarker(location = [40.7589, -73.9851])\n",
    "manhattan_map = folium.Map(location=[40.7589, -73.9851])\n",
    "```\n",
    "\n",
    "So let's write a function called to create this two element list from a trip.  Write a function called `location` that  takes in a trip as an argument and returns a list where the first element is the latitude and the second is the longitude.  Remember that a location looks like the following:"
   ]
  },
  {
   "cell_type": "code",
   "execution_count": 65,
   "metadata": {},
   "outputs": [
    {
     "data": {
      "text/plain": [
       "{'pickup_latitude': 40.64499,\n",
       " 'pickup_longitude': -73.78115,\n",
       " 'trip_distance': 18.38}"
      ]
     },
     "execution_count": 65,
     "metadata": {},
     "output_type": "execute_result"
    }
   ],
   "source": [
    "first_trip = {'pickup_latitude': 40.64499, 'pickup_longitude': -73.78115,  'trip_distance': 18.38}\n",
    "first_trip"
   ]
  },
  {
   "cell_type": "code",
   "execution_count": 127,
   "metadata": {},
   "outputs": [],
   "source": [
    "def location(trip):\n",
    "    oops = list(map(lambda boop: {float(v) for k,v in trip.items() if k != 'trip_distance'}, pa))\n",
    "    return oops"
   ]
  },
  {
   "cell_type": "code",
   "execution_count": 128,
   "metadata": {},
   "outputs": [
    {
     "data": {
      "text/plain": [
       "[{-73.78115, 40.64499},\n",
       " {-73.982098, 40.766931},\n",
       " {-73.951902, 40.77773},\n",
       " {-73.971049, 40.795678},\n",
       " {-73.967782, 40.762912},\n",
       " {-73.991572, 40.731176},\n",
       " {-73.968098, 40.800219},\n",
       " {-73.783508, 40.648509},\n",
       " {-73.983493, 40.721897},\n",
       " {-73.972224, 40.791566},\n",
       " {-73.978619, 40.744896},\n",
       " {-73.844435, 40.721951},\n",
       " {-74.001682, 40.732382},\n",
       " {-73.961478, 40.768339},\n",
       " {-73.962446, 40.775933},\n",
       " {-73.971476, 40.794829},\n",
       " {-73.964878, 40.758647},\n",
       " {-74.011587, 40.713638},\n",
       " {-73.874597, 40.77403},\n",
       " {-73.99887, 40.728127},\n",
       " {-73.976688, 40.759671},\n",
       " {-73.967095, 40.772651},\n",
       " {-73.960222, 40.770319},\n",
       " {-73.988065, 40.720457},\n",
       " {-73.973606, 40.754789},\n",
       " {-73.985846, 40.755654},\n",
       " {-73.978341, 40.741568},\n",
       " {-73.98862, 40.736907},\n",
       " {-73.964842, 40.76003},\n",
       " {-74.008287, 40.721366},\n",
       " {-73.97627, 40.760147},\n",
       " {-74.001817, 40.745847},\n",
       " {-73.985247, 40.753015},\n",
       " {-73.782229, 40.644657},\n",
       " {-74.0086, 40.738767},\n",
       " {-73.871065, 40.773797},\n",
       " {-73.97686, 40.743411},\n",
       " {-73.967897, 40.758905},\n",
       " {-73.989602, 40.733877},\n",
       " {-73.983432, 40.726162},\n",
       " {-73.947765, 40.775122},\n",
       " {-73.978487, 40.75987},\n",
       " {-73.94328, 40.707087},\n",
       " {-74.003578, 40.741912},\n",
       " {-73.862679, 40.769112},\n",
       " {-73.976387, 40.785807},\n",
       " {-73.986852, 40.7513},\n",
       " {-73.987204, 40.733385},\n",
       " {-73.976186, 40.760257},\n",
       " {-74.005201, 40.741249},\n",
       " {-73.985352, 40.759795},\n",
       " {-73.9697, 40.756636},\n",
       " {-74.000759, 40.73925},\n",
       " {-73.97607, 40.751055},\n",
       " {-73.995992, 40.723584},\n",
       " {-73.929485, 40.757037},\n",
       " {-73.981978, 40.743385},\n",
       " {-73.978153, 40.737486},\n",
       " {-73.95285, 40.77225},\n",
       " {-73.981975, 40.732882},\n",
       " {-73.988232, 40.774567},\n",
       " {-73.964735, 40.757437},\n",
       " {-73.975402, 40.789637},\n",
       " {-73.992548, 40.754317},\n",
       " {-73.998627, 40.745007},\n",
       " {-73.990523, 40.734982},\n",
       " {0.0},\n",
       " {-73.989672, 40.738617},\n",
       " {-73.972809, 40.790712},\n",
       " {-73.987398, 40.750167},\n",
       " {-73.98447, 40.732141},\n",
       " {-73.994847, 40.765758},\n",
       " {-73.964102, 40.792594},\n",
       " {-73.969549, 40.762908},\n",
       " {-73.968447, 40.750722},\n",
       " {-73.86443, 40.769887},\n",
       " {-73.982419, 40.77247},\n",
       " {-73.982668, 40.764545},\n",
       " {-73.78641, 40.641805},\n",
       " {-73.97835, 40.75224},\n",
       " {-73.988555, 40.758835},\n",
       " {-73.988558, 40.722785},\n",
       " {-73.993645, 40.720338},\n",
       " {-73.991628, 40.72973},\n",
       " {-73.958405, 40.760442},\n",
       " {-73.98314, 40.756227},\n",
       " {-73.992905, 40.751555},\n",
       " {-74.004106, 40.71333},\n",
       " {-73.991849, 40.764762},\n",
       " {-73.985259, 40.763353},\n",
       " {-73.982082, 40.775292},\n",
       " {-73.984852, 40.779515},\n",
       " {-73.982234, 40.768322},\n",
       " {-73.95388, 40.766602},\n",
       " {-73.981214, 40.763684},\n",
       " {-73.952092, 40.793086},\n",
       " {-73.871055, 40.773602},\n",
       " {-73.959023, 40.771909},\n",
       " {-73.961478, 40.774029},\n",
       " {-73.972212, 40.74964},\n",
       " {-73.959533, 40.771542},\n",
       " {-73.9839, 40.694095},\n",
       " {-73.994315, 40.756312},\n",
       " {-74.006652, 40.730282},\n",
       " {-73.955068, 40.777707},\n",
       " {-73.994962, 40.726087},\n",
       " {-73.999885, 40.738385},\n",
       " {-73.961987, 40.7678},\n",
       " {-73.972513, 40.742682},\n",
       " {-73.982262, 40.770602},\n",
       " {-73.976727, 40.747967},\n",
       " {-74.004093, 40.742803},\n",
       " {-73.97546, 40.755521},\n",
       " {-74.002757, 40.760528},\n",
       " {-74.005513, 40.740732},\n",
       " {-74.00601, 40.735497},\n",
       " {-74.013518, 40.715387},\n",
       " {-73.995427, 40.721587},\n",
       " {-73.983502, 40.760057},\n",
       " {-73.986289, 40.740332},\n",
       " {-73.977834, 40.7455},\n",
       " {-73.987273, 40.733125},\n",
       " {-73.989949, 40.752092},\n",
       " {-73.992617, 40.72381},\n",
       " {-73.984105, 40.767446},\n",
       " {-73.968083, 40.800479},\n",
       " {-73.991325, 40.717055},\n",
       " {-73.992155, 40.748863},\n",
       " {-73.9478, 40.80474},\n",
       " {-73.969015, 40.762202},\n",
       " {0.0},\n",
       " {-73.987223, 40.740407},\n",
       " {-73.997097, 40.722399},\n",
       " {-73.974092, 40.747572},\n",
       " {-73.972048, 40.794651},\n",
       " {-73.9716, 40.751087},\n",
       " {-74.009981, 40.719886},\n",
       " {-73.98696, 40.760887},\n",
       " {-74.0073, 40.727514},\n",
       " {-73.872166, 40.774453},\n",
       " {-74.003545, 40.741907},\n",
       " {-73.97979, 40.735118},\n",
       " {-73.871275, 40.773907},\n",
       " {-73.994232, 40.758937},\n",
       " {-73.977199, 40.752144},\n",
       " {-73.990757, 40.745642},\n",
       " {-73.98984, 40.71879},\n",
       " {-74.006124, 40.739945},\n",
       " {-73.986287, 40.777575},\n",
       " {-73.988899, 40.753632},\n",
       " {-73.97703, 40.74733},\n",
       " {-73.960596, 40.769822},\n",
       " {-73.997131, 40.724658},\n",
       " {-73.989398, 40.758345},\n",
       " {-73.97669, 40.764807},\n",
       " {-73.962703, 40.772847},\n",
       " {-73.966972, 40.793682},\n",
       " {-73.97804, 40.760007},\n",
       " {-73.888215, 40.747252},\n",
       " {-73.967522, 40.756392},\n",
       " {-73.977714, 40.763685},\n",
       " {-73.982805, 40.767068},\n",
       " {-73.98728, 40.77596},\n",
       " {-73.984663, 40.739617},\n",
       " {-73.976404, 40.751953},\n",
       " {-74.000952, 40.718635},\n",
       " {-73.981375, 40.7331},\n",
       " {-73.96322, 40.77463},\n",
       " {-73.984942, 40.753675},\n",
       " {-73.95948, 40.763262},\n",
       " {-73.958237, 40.768895},\n",
       " {-73.788935, 40.641375},\n",
       " {-73.98666, 40.745472},\n",
       " {-74.004372, 40.707562},\n",
       " {-73.968992, 40.75331},\n",
       " {-73.960554, 40.769545},\n",
       " {-73.874625, 40.77411},\n",
       " {-74.009875, 40.720615},\n",
       " {-73.969831, 40.76305},\n",
       " {-73.78482, 40.648605},\n",
       " {-74.001527, 40.730875},\n",
       " {-73.928025, 40.763843},\n",
       " {-73.97835, 40.759867},\n",
       " {-73.982, 40.77302},\n",
       " {-73.980957, 40.767437},\n",
       " {-73.97166, 40.7951},\n",
       " {-73.980198, 40.78045},\n",
       " {-73.956815, 40.777608},\n",
       " {-73.952306, 40.783897},\n",
       " {-73.999686, 40.738437},\n",
       " {-73.980152, 40.766227},\n",
       " {-74.007947, 40.7472},\n",
       " {-73.987032, 40.729602},\n",
       " {-74.000877, 40.747295},\n",
       " {-73.954283, 40.764276},\n",
       " {-74.005494, 40.717463},\n",
       " {-73.967298, 40.756667},\n",
       " {-73.988783, 40.723036},\n",
       " {-73.989064, 40.742832},\n",
       " {-73.970231, 40.759825},\n",
       " {-73.954641, 40.770567},\n",
       " {-73.988827, 40.743565},\n",
       " {-73.982602, 40.761372},\n",
       " {-73.995492, 40.725012},\n",
       " {-73.975745, 40.751251},\n",
       " {-73.993292, 40.742522},\n",
       " {-73.98479, 40.762107},\n",
       " {-73.953967, 40.787171},\n",
       " {-74.004942, 40.739887},\n",
       " {-73.982005, 40.775297},\n",
       " {-73.983751, 40.743232},\n",
       " {-73.987253, 40.757386},\n",
       " {-73.98395, 40.749027},\n",
       " {-73.978314, 40.752385},\n",
       " {-73.986383, 40.721988},\n",
       " {-73.991082, 40.742422},\n",
       " {-73.993911, 40.735396},\n",
       " {-73.991593, 40.749873},\n",
       " {-73.962047, 40.779447},\n",
       " {-74.00677, 40.730843},\n",
       " {-73.987503, 40.750116},\n",
       " {-74.011263, 40.701734},\n",
       " {-73.977049, 40.72635},\n",
       " {-73.98921, 40.688702},\n",
       " {-73.96467, 40.771385},\n",
       " {-73.959979, 40.715884},\n",
       " {-73.975066, 40.790046},\n",
       " {-73.97822, 40.76418},\n",
       " {-73.987652, 40.76041},\n",
       " {-73.978275, 40.745647},\n",
       " {-73.940565, 40.793261},\n",
       " {-73.968438, 40.762111},\n",
       " {-73.9969, 40.74733},\n",
       " {-73.988666, 40.74886},\n",
       " {-73.986395, 40.730145},\n",
       " {-73.973152, 40.75318},\n",
       " {-73.837699, 40.829557},\n",
       " {-73.973988, 40.743102},\n",
       " {-73.98674, 40.750445},\n",
       " {-73.923155, 40.743475},\n",
       " {-73.993035, 40.762752},\n",
       " {-73.979713, 40.765577},\n",
       " {-73.89876, 40.750027},\n",
       " {-73.986142, 40.751947},\n",
       " {-74.008841, 40.71972},\n",
       " {-73.946522, 40.78079},\n",
       " {-73.993449, 40.751607},\n",
       " {-73.988398, 40.745595},\n",
       " {-73.98729, 40.72245},\n",
       " {-73.93467, 40.702557},\n",
       " {-73.98004, 40.734659},\n",
       " {-73.992049, 40.764774},\n",
       " {-73.985065, 40.723516},\n",
       " {-73.983538, 40.781072},\n",
       " {-73.973026, 40.793005},\n",
       " {-73.993857, 40.721025},\n",
       " {-73.899785, 40.768497},\n",
       " {-73.954179, 40.80726},\n",
       " {-73.963908, 40.773715},\n",
       " {-73.956843, 40.780082},\n",
       " {-73.982933, 40.741824},\n",
       " {-74.004672, 40.742112},\n",
       " {-74.007585, 40.725925},\n",
       " {-73.776765, 40.645718},\n",
       " {-73.994967, 40.718398},\n",
       " {0.0},\n",
       " {-73.99289, 40.736343},\n",
       " {-73.994472, 40.753827},\n",
       " {-73.971834, 40.750693},\n",
       " {-73.991152, 40.745964},\n",
       " {-74.004042, 40.740482},\n",
       " {0.0},\n",
       " {-73.966812, 40.803842},\n",
       " {-73.969822, 40.797632},\n",
       " {-73.776652, 40.645322},\n",
       " {-74.003233, 40.749207},\n",
       " {-73.983683, 40.765548},\n",
       " {-73.931531, 40.760289},\n",
       " {-73.981767, 40.778967},\n",
       " {-73.973285, 40.7582},\n",
       " {-73.990504, 40.730709},\n",
       " {-73.97814, 40.7456},\n",
       " {-73.999779, 40.719471},\n",
       " {-73.974282, 40.75619},\n",
       " {-73.967915, 40.639542},\n",
       " {-73.97427, 40.78366},\n",
       " {-73.97771, 40.7464},\n",
       " {-73.98533, 40.727475},\n",
       " {-74.006024, 40.735015},\n",
       " {0.0},\n",
       " {0.0},\n",
       " {-74.04442, 40.754176},\n",
       " {-73.994987, 40.740112},\n",
       " {-73.987553, 40.719972},\n",
       " {-74.006987, 40.70517},\n",
       " {-73.970472, 40.789142},\n",
       " {-73.984182, 40.749115},\n",
       " {-73.992037, 40.76443},\n",
       " {-73.990472, 40.756477},\n",
       " {-73.984852, 40.746142},\n",
       " {-73.989088, 40.747856},\n",
       " {-73.964789, 40.772615},\n",
       " {-73.975275, 40.761912},\n",
       " {-74.005581, 40.740991},\n",
       " {-73.97707, 40.764115},\n",
       " {-73.987538, 40.728808},\n",
       " {-73.991953, 40.725511},\n",
       " {-73.954822, 40.768967},\n",
       " {-73.973926, 40.75652},\n",
       " {-73.970895, 40.751217},\n",
       " {-73.977187, 40.779557},\n",
       " {-73.8755, 40.771472},\n",
       " {-73.9918, 40.73832},\n",
       " {-73.789035, 40.643172},\n",
       " {-73.953623, 40.769387},\n",
       " {-74.000932, 40.731752},\n",
       " {-73.991095, 40.745874},\n",
       " {-73.963893, 40.767867},\n",
       " {-73.98354, 40.766245},\n",
       " {-73.97311, 40.753485},\n",
       " {-73.986165, 40.726597},\n",
       " {-73.985232, 40.7446},\n",
       " {-73.969385, 40.756806},\n",
       " {-73.947283, 40.783447},\n",
       " {-73.989435, 40.758985},\n",
       " {-73.776808, 40.645316},\n",
       " {-73.983233, 40.762868},\n",
       " {-73.975755, 40.761322},\n",
       " {-73.865913, 40.771097},\n",
       " {-73.967307, 40.760195},\n",
       " {-74.00007, 40.73286},\n",
       " {-73.985488, 40.75952},\n",
       " {-73.954177, 40.821517},\n",
       " {-73.990548, 40.734922},\n",
       " {-73.989531, 40.757594},\n",
       " {-73.880385, 40.748042},\n",
       " {-73.992772, 40.74957},\n",
       " {-73.981141, 40.759663},\n",
       " {-73.966882, 40.756397},\n",
       " {-73.967735, 40.68078},\n",
       " {-73.994031, 40.749994},\n",
       " {-73.961519, 40.801351},\n",
       " {-73.981952, 40.766223},\n",
       " {-73.982178, 40.740045},\n",
       " {-73.934415, 40.801657},\n",
       " {-73.987027, 40.738722},\n",
       " {-74.00809, 40.742172},\n",
       " {-73.98233, 40.775633},\n",
       " {-73.96788, 40.792377},\n",
       " {-73.99842, 40.659956},\n",
       " {-73.97585, 40.7655},\n",
       " {-73.992069, 40.737997},\n",
       " {-73.945825, 40.711467},\n",
       " {0.0},\n",
       " {-74.015592, 40.710822},\n",
       " {-73.97968, 40.763597},\n",
       " {-73.973007, 40.744277},\n",
       " {-73.873092, 40.774152},\n",
       " {-73.959905, 40.773736},\n",
       " {-74.005399, 40.740018},\n",
       " {-73.979116, 40.750094},\n",
       " {-73.983402, 40.741317},\n",
       " {-73.965817, 40.75885},\n",
       " {-73.990203, 40.687077},\n",
       " {-73.979222, 40.76705},\n",
       " {-73.997073, 40.72257},\n",
       " {-73.957862, 40.77958},\n",
       " {-73.9853, 40.7385},\n",
       " {-73.982127, 40.770377},\n",
       " {-73.983681, 40.75906},\n",
       " {-73.99235, 40.689827},\n",
       " {-73.952442, 40.766367},\n",
       " {-73.99898, 40.717302},\n",
       " {-73.788912, 40.642817},\n",
       " {-73.969071, 40.766804},\n",
       " {-73.98593, 40.762317},\n",
       " {-73.999288, 40.734099},\n",
       " {-73.957142, 40.770737},\n",
       " {-73.998967, 40.724919},\n",
       " {-73.998358, 40.729687},\n",
       " {-73.985687, 40.744083},\n",
       " {-73.977196, 40.726413},\n",
       " {-73.966721, 40.794009},\n",
       " {-73.994388, 40.74589},\n",
       " {-73.989232, 40.75284},\n",
       " {-73.959298, 40.777652},\n",
       " {-73.991668, 40.726935},\n",
       " {-73.97751, 40.74969},\n",
       " {-74.016717, 40.709355},\n",
       " {-73.99125, 40.750099},\n",
       " {-73.948801, 40.777513},\n",
       " {-73.77668, 40.64534},\n",
       " {-73.97205, 40.794572},\n",
       " {-73.971439, 40.76084},\n",
       " {-73.979668, 40.758902},\n",
       " {-73.976395, 40.756082},\n",
       " {-73.9819, 40.746631},\n",
       " {-73.977033, 40.787612},\n",
       " {-73.982345, 40.748875},\n",
       " {0.0},\n",
       " {-73.989973, 40.734924},\n",
       " {-73.979288, 40.755682},\n",
       " {-73.963752, 40.757465},\n",
       " {-73.994115, 40.751163},\n",
       " {-73.986173, 40.754707},\n",
       " {-73.965495, 40.768512},\n",
       " {-73.961915, 40.770792},\n",
       " {-73.952653, 40.780672},\n",
       " {-73.995547, 40.733568},\n",
       " {-73.99179, 40.74998},\n",
       " {-73.986202, 40.72235},\n",
       " {-73.956903, 40.77081},\n",
       " {-73.95672, 40.771152},\n",
       " {-73.973482, 40.790777},\n",
       " {-74.013591, 40.716232},\n",
       " {-73.984523, 40.74277},\n",
       " {-73.999842, 40.726791},\n",
       " {-73.963839, 40.774935},\n",
       " {-73.979423, 40.752832},\n",
       " {-73.985831, 40.732783},\n",
       " {-73.986138, 40.75176},\n",
       " {-73.981567, 40.772827},\n",
       " {-73.977741, 40.786305},\n",
       " {-74.01021, 40.71986},\n",
       " {-73.984715, 40.748193},\n",
       " {-73.992515, 40.734642},\n",
       " {-73.98159, 40.758495},\n",
       " {-73.991913, 40.750711},\n",
       " {-73.990382, 40.751085},\n",
       " {-73.99152, 40.696647},\n",
       " {-73.982632, 40.766092},\n",
       " {-73.88525, 40.77293},\n",
       " {-73.790294, 40.644032},\n",
       " {-73.970859, 40.758261},\n",
       " {-73.985658, 40.778392},\n",
       " {-73.963047, 40.758372},\n",
       " {-73.975128, 40.752788},\n",
       " {-74.007642, 40.741972},\n",
       " {-73.977855, 40.764972},\n",
       " {-73.982747, 40.742227},\n",
       " {-73.979374, 40.743594},\n",
       " {-73.961215, 40.774852},\n",
       " {-73.975743, 40.786657},\n",
       " {-74.001455, 40.731236},\n",
       " {-73.978797, 40.724197},\n",
       " {-74.005065, 40.735687},\n",
       " {-73.978812, 40.724007},\n",
       " {-73.993918, 40.751962},\n",
       " {-73.976127, 40.744422},\n",
       " {-73.952025, 40.76944},\n",
       " {-73.972347, 40.755972},\n",
       " {-73.957812, 40.782482},\n",
       " {-74.00807, 40.739142},\n",
       " {-73.977267, 40.752412},\n",
       " {0.0},\n",
       " {-73.963929, 40.771168},\n",
       " {-73.973294, 40.756005},\n",
       " {-73.945392, 40.778415},\n",
       " {-73.957138, 40.766653},\n",
       " {-73.97976, 40.746032},\n",
       " {-73.996385, 40.763352},\n",
       " {-73.983322, 40.755782},\n",
       " {-73.982025, 40.769837},\n",
       " {-73.885269, 40.773009},\n",
       " {-73.968139, 40.799458},\n",
       " {-73.961237, 40.777555},\n",
       " {-73.966942, 40.80409},\n",
       " {-73.951672, 40.713948},\n",
       " {-74.006441, 40.741453},\n",
       " {-73.969018, 40.79858},\n",
       " {-73.956165, 40.721519},\n",
       " {-74.006568, 40.744341},\n",
       " {-73.991395, 40.750106},\n",
       " {-73.958397, 40.815817},\n",
       " {-73.982507, 40.772255},\n",
       " {-73.967363, 40.756412},\n",
       " {-73.99331, 40.729556},\n",
       " {-73.957909, 40.774627},\n",
       " {-73.983521, 40.744418},\n",
       " {-73.970739, 40.795953},\n",
       " {-74.006038, 40.735785},\n",
       " {-73.981362, 40.741275},\n",
       " {-73.968693, 40.759037},\n",
       " {-73.954807, 40.7642},\n",
       " {-73.95955, 40.779383},\n",
       " {-74.002, 40.72638},\n",
       " {-73.997696, 40.716736},\n",
       " {-73.987503, 40.751872},\n",
       " {-73.988552, 40.774462},\n",
       " {-74.005309, 40.748208},\n",
       " {-74.005378, 40.756054},\n",
       " {-73.97723, 40.759193},\n",
       " {-73.999577, 40.7439},\n",
       " {-73.95882, 40.712612},\n",
       " {-73.9712, 40.751285},\n",
       " {-73.98631, 40.75262},\n",
       " {-74.000534, 40.728885},\n",
       " {-73.979382, 40.753302},\n",
       " {-73.968202, 40.759795},\n",
       " {-74.0062, 40.727368},\n",
       " {-73.96904, 40.7595},\n",
       " {-73.970865, 40.751837},\n",
       " {-73.97492, 40.742032},\n",
       " {-73.97283, 40.755123},\n",
       " {-73.980283, 40.726783},\n",
       " {-73.952227, 40.768924},\n",
       " {-73.988848, 40.748232},\n",
       " {-74.011423, 40.70205},\n",
       " {-73.989376, 40.763197},\n",
       " {-74.008509, 40.720794},\n",
       " {-73.984531, 40.760644},\n",
       " {-73.98406, 40.743367},\n",
       " {-74.00267, 40.749792},\n",
       " {-73.97379, 40.754807},\n",
       " {-73.781578, 40.64483},\n",
       " {-73.989694, 40.767759},\n",
       " {-73.96815, 40.762243},\n",
       " {-73.992072, 40.730735},\n",
       " {-73.999515, 40.738672},\n",
       " {-73.980465, 40.774752},\n",
       " {-73.945725, 40.777867},\n",
       " {-74.00424, 40.742502},\n",
       " {-73.97557, 40.76532},\n",
       " {-73.979826, 40.722856},\n",
       " {-73.982625, 40.777252},\n",
       " {-73.985925, 40.740912},\n",
       " {-73.969052, 40.798562},\n",
       " {-74.013452, 40.71422},\n",
       " {-73.972642, 40.748567},\n",
       " {-73.985682, 40.757222},\n",
       " {-73.993982, 40.751325},\n",
       " {-73.991875, 40.729357},\n",
       " {-73.9646, 40.767302},\n",
       " {-73.967215, 40.793391},\n",
       " {-73.791427, 40.642527},\n",
       " {-73.992404, 40.758769},\n",
       " {-73.993307, 40.72184},\n",
       " {-74.004308, 40.721116},\n",
       " {-74.00562, 40.75085},\n",
       " {-74.012503, 40.701535},\n",
       " {-73.968502, 40.76495},\n",
       " {0.0},\n",
       " {-73.97797, 40.74892},\n",
       " {-73.98498, 40.77908},\n",
       " {-73.78582, 40.646587},\n",
       " {-74.00549, 40.739812},\n",
       " {-73.99404, 40.728841},\n",
       " {-73.97917, 40.752327},\n",
       " {-73.974918, 40.732893},\n",
       " {-73.988708, 40.769041},\n",
       " {-73.953385, 40.782595},\n",
       " {-73.984962, 40.744757},\n",
       " {-73.98375, 40.752422},\n",
       " {-73.975273, 40.760963},\n",
       " {-73.980602, 40.68118},\n",
       " {-73.97752, 40.758312},\n",
       " {-73.997061, 40.71897},\n",
       " {-73.991242, 40.723912},\n",
       " {-73.975227, 40.756415},\n",
       " {-73.994153, 40.751115},\n",
       " {-73.979897, 40.785935},\n",
       " {-74.002849, 40.760434},\n",
       " {-74.015138, 40.71597},\n",
       " {-73.96166, 40.76767},\n",
       " {-73.95626, 40.771907},\n",
       " {-73.981967, 40.778537},\n",
       " {-74.00658, 40.73111},\n",
       " {-73.884413, 40.755756},\n",
       " {-73.968651, 40.791595},\n",
       " {-74.002532, 40.750117},\n",
       " {-74.00953, 40.71242},\n",
       " {-73.972672, 40.761311},\n",
       " {-74.015208, 40.71592},\n",
       " {-73.94075, 40.712097},\n",
       " {-73.991874, 40.729574},\n",
       " {-73.969407, 40.75377},\n",
       " {-73.9992, 40.72269},\n",
       " {-73.982842, 40.722982},\n",
       " {-73.870591, 40.773595},\n",
       " {-73.98311, 40.767875},\n",
       " {-73.952871, 40.768197},\n",
       " {-73.998795, 40.745547},\n",
       " {-73.963437, 40.768712},\n",
       " {-73.968702, 40.757889},\n",
       " {-74.009983, 40.72067},\n",
       " {-73.971497, 40.763362},\n",
       " {-73.97495, 40.75185},\n",
       " {-74.0027, 40.73385},\n",
       " {-73.96833, 40.768718},\n",
       " {-73.971638, 40.787222},\n",
       " {-73.97884, 40.782367},\n",
       " {-73.933138, 40.751801},\n",
       " {-73.991625, 40.756307},\n",
       " {-73.974168, 40.755034},\n",
       " {-73.945566, 40.712003},\n",
       " {-73.994667, 40.750283},\n",
       " {-73.994539, 40.740555},\n",
       " {-73.963192, 40.798792},\n",
       " {-74.016737, 40.715947},\n",
       " {-74.004712, 40.70746},\n",
       " {-73.996785, 40.76306},\n",
       " {-74.013361, 40.707022},\n",
       " {-73.969252, 40.760955},\n",
       " {-74.000013, 40.758719},\n",
       " {-73.989107, 40.763425},\n",
       " {-73.983815, 40.743667},\n",
       " {-73.98832, 40.743297},\n",
       " {-73.992042, 40.748887},\n",
       " {-73.99125, 40.74506},\n",
       " {-73.955095, 40.783298},\n",
       " {-73.967217, 40.79338},\n",
       " {-73.973278, 40.759725},\n",
       " {-73.948455, 40.789342},\n",
       " {-73.994352, 40.717302},\n",
       " {-73.986923, 40.759305},\n",
       " {-73.96785, 40.75966},\n",
       " {-73.985125, 40.763645},\n",
       " {-73.99242, 40.75375},\n",
       " {-73.993513, 40.754554},\n",
       " {-74.002772, 40.733659},\n",
       " {-73.974266, 40.747263},\n",
       " {0.0},\n",
       " {-73.975968, 40.789094},\n",
       " {-73.87317, 40.77409},\n",
       " {-74.006706, 40.744275},\n",
       " {-74.006372, 40.739702},\n",
       " {-73.99349, 40.75873},\n",
       " {-73.991202, 40.749452},\n",
       " {-73.968547, 40.754753},\n",
       " {-73.994112, 40.751248},\n",
       " {-74.01484, 40.709411},\n",
       " {-73.977602, 40.783943},\n",
       " {-73.995672, 40.754177},\n",
       " {-73.968469, 40.762551},\n",
       " {-74.006713, 40.709595},\n",
       " {-73.979295, 40.75531},\n",
       " {-73.985564, 40.744349},\n",
       " {-73.981112, 40.767895},\n",
       " {-73.972058, 40.754248},\n",
       " {-73.968343, 40.754852},\n",
       " {-73.872417, 40.774487},\n",
       " {-73.977379, 40.779426},\n",
       " {-73.955538, 40.767777},\n",
       " {-73.870572, 40.77365},\n",
       " {-73.994658, 40.750417},\n",
       " {-73.988687, 40.737117},\n",
       " {-74.003779, 40.738447},\n",
       " {-73.96498, 40.75681},\n",
       " {-73.978052, 40.788362},\n",
       " {-73.994123, 40.742219},\n",
       " {-73.993024, 40.747881},\n",
       " {-73.915012, 40.763835},\n",
       " {-73.958245, 40.778885},\n",
       " {-73.983765, 40.76556},\n",
       " {-73.995287, 40.745032},\n",
       " {-73.981978, 40.736197},\n",
       " {-73.968752, 40.758157},\n",
       " {-73.99825, 40.719997},\n",
       " {-73.970462, 40.752447},\n",
       " {-74.016124, 40.714814},\n",
       " {-73.984038, 40.754756},\n",
       " {-73.969787, 40.799892},\n",
       " {-73.973301, 40.759859},\n",
       " {-73.992087, 40.689592},\n",
       " {-73.962066, 40.776253},\n",
       " {-73.992082, 40.749577},\n",
       " {-73.950919, 40.777566},\n",
       " {-73.991562, 40.749747},\n",
       " {-73.984962, 40.742145},\n",
       " {-73.988366, 40.746859},\n",
       " {-73.984203, 40.7699},\n",
       " {-73.987573, 40.737429},\n",
       " {-73.99197, 40.76952},\n",
       " {-74.0127, 40.7169},\n",
       " {-73.986443, 40.718208},\n",
       " {-73.947142, 40.775985},\n",
       " {-73.988128, 40.774893},\n",
       " {-73.98313, 40.750512},\n",
       " {-73.993005, 40.73824},\n",
       " {-73.979155, 40.749935},\n",
       " {-73.995501, 40.759445},\n",
       " {-73.997705, 40.725862},\n",
       " {-73.99803, 40.720402},\n",
       " {-73.996852, 40.725668},\n",
       " {-73.972542, 40.761712},\n",
       " {-73.954357, 40.767342},\n",
       " {-73.993582, 40.751985},\n",
       " {-73.992454, 40.725807},\n",
       " {-73.959587, 40.798907},\n",
       " {-73.96952, 40.763502},\n",
       " {-73.886932, 40.76514},\n",
       " {-74.003947, 40.725613},\n",
       " {-73.952104, 40.787654},\n",
       " {-73.975903, 40.749559},\n",
       " {-73.99348, 40.746946},\n",
       " {-73.986297, 40.750173},\n",
       " {-73.971551, 40.743896},\n",
       " {-73.986233, 40.767159},\n",
       " {-73.98351, 40.777596},\n",
       " {-73.97076, 40.74933},\n",
       " {-73.992067, 40.758162},\n",
       " {-73.97158, 40.75726},\n",
       " {-73.989645, 40.752815},\n",
       " {-73.99062, 40.734912},\n",
       " {-73.967407, 40.76102},\n",
       " {-74.008685, 40.704517},\n",
       " {-73.968163, 40.760057},\n",
       " {-73.967911, 40.80307},\n",
       " {-73.975209, 40.755706},\n",
       " {-73.959412, 40.774172},\n",
       " {-73.99723, 40.757185},\n",
       " {-74.002108, 40.750685},\n",
       " {-73.996418, 40.75321},\n",
       " {-73.981772, 40.771724},\n",
       " {-74.00319, 40.72224},\n",
       " {-73.960702, 40.765242},\n",
       " {-73.952995, 40.776315},\n",
       " {-73.961535, 40.761082},\n",
       " {-73.98198, 40.76559},\n",
       " {-73.987997, 40.719963},\n",
       " {-73.986721, 40.732639},\n",
       " {-73.992612, 40.718726},\n",
       " {-73.961737, 40.774015},\n",
       " {-73.991287, 40.750555},\n",
       " {-74.00577, 40.741115},\n",
       " {-73.994739, 40.727002},\n",
       " {-73.98188, 40.77177},\n",
       " {-73.966885, 40.753392},\n",
       " {-73.9772, 40.764207},\n",
       " {0.0},\n",
       " {-73.963669, 40.774341},\n",
       " {-73.97462, 40.756705},\n",
       " {-74.007189, 40.728314},\n",
       " {-74.003702, 40.73845},\n",
       " {-73.97241, 40.763247},\n",
       " {-74.004707, 40.741825},\n",
       " {-73.9612, 40.7649},\n",
       " {-73.978817, 40.744682},\n",
       " {-73.99113, 40.717487},\n",
       " {-74.002195, 40.729872},\n",
       " {-73.982578, 40.745205},\n",
       " {-73.885322, 40.773118},\n",
       " {-73.981935, 40.744085},\n",
       " {-73.967692, 40.800642},\n",
       " {-73.966807, 40.770492},\n",
       " {-73.978132, 40.751325},\n",
       " {-73.976194, 40.764456},\n",
       " {-73.979264, 40.763968},\n",
       " {-74.008496, 40.745711},\n",
       " {-73.951423, 40.78232},\n",
       " {-73.987498, 40.722958},\n",
       " {-74.177668, 40.690387},\n",
       " {-73.989083, 40.761305},\n",
       " {-73.993151, 40.754549},\n",
       " {-73.874527, 40.77408},\n",
       " {-73.98864, 40.735602},\n",
       " {-73.982692, 40.772117},\n",
       " {-73.98462, 40.736892},\n",
       " {-74.006866, 40.705808},\n",
       " {-73.960347, 40.797627},\n",
       " {-73.978587, 40.745217},\n",
       " {-73.94696, 40.776247},\n",
       " {-73.9876, 40.780255},\n",
       " {-73.982488, 40.77277},\n",
       " {-73.94992, 40.772207},\n",
       " {-73.937715, 40.758277},\n",
       " {-73.99204, 40.721757},\n",
       " {-73.970552, 40.74909},\n",
       " {-73.979327, 40.753807},\n",
       " {-73.98333, 40.771288},\n",
       " {-74.009752, 40.715183},\n",
       " {-73.982238, 40.77827},\n",
       " {-73.982317, 40.774696},\n",
       " {-73.984265, 40.74408},\n",
       " {-73.993653, 40.720975},\n",
       " {-73.98305, 40.73918},\n",
       " {-73.95442, 40.764142},\n",
       " {-73.996472, 40.725785},\n",
       " {-73.98794, 40.773538},\n",
       " {-73.989278, 40.726065},\n",
       " {-73.986215, 40.728097},\n",
       " {-73.978387, 40.745012},\n",
       " {-73.989205, 40.774312},\n",
       " {-73.958256, 40.761926},\n",
       " {-73.99328, 40.7297},\n",
       " {-73.97328, 40.76393},\n",
       " {-73.948383, 40.78277},\n",
       " {-73.981522, 40.759347},\n",
       " {-73.996771, 40.725635},\n",
       " {-73.980176, 40.751109},\n",
       " {-74.001152, 40.73672},\n",
       " {-74.00089, 40.74207},\n",
       " {-73.992855, 40.75857},\n",
       " {-73.996435, 40.727227},\n",
       " {-73.9899, 40.741078},\n",
       " {-73.98097, 40.748019},\n",
       " {-73.978908, 40.762081},\n",
       " {-73.979712, 40.746683},\n",
       " {-73.98858, 40.75576},\n",
       " {-73.997073, 40.737382},\n",
       " {-73.870957, 40.773777},\n",
       " {-73.982293, 40.762767},\n",
       " {-73.97625, 40.788335},\n",
       " {-73.939932, 40.708292},\n",
       " {-73.99704, 40.737012},\n",
       " {-73.951147, 40.785612},\n",
       " {-73.965163, 40.763332},\n",
       " {-73.984915, 40.757283},\n",
       " {-73.962567, 40.769862},\n",
       " {-73.973275, 40.763994},\n",
       " {-74.001687, 40.719707},\n",
       " {-73.959639, 40.763028},\n",
       " {-73.958628, 40.780782},\n",
       " {-73.980939, 40.756066},\n",
       " {-73.964465, 40.79712},\n",
       " {-73.885138, 40.772652},\n",
       " {-73.951088, 40.782582},\n",
       " {-73.971017, 40.754822},\n",
       " {-73.987428, 40.722532},\n",
       " {-73.980648, 40.760442},\n",
       " {-73.984948, 40.764282},\n",
       " {-73.978038, 40.746333},\n",
       " {-73.987478, 40.770377},\n",
       " {-73.962962, 40.763152},\n",
       " {-73.975233, 40.75781},\n",
       " {-73.986817, 40.745593},\n",
       " {-73.954963, 40.783545},\n",
       " {-73.97543, 40.757605},\n",
       " {-73.973248, 40.75899},\n",
       " {-74.008577, 40.713662},\n",
       " {-73.958072, 40.776252},\n",
       " {-73.97666, 40.764},\n",
       " {-74.003975, 40.74787},\n",
       " {-73.992417, 40.748717},\n",
       " {-73.965624, 40.771905},\n",
       " {-73.947885, 40.783138},\n",
       " {-73.96923, 40.75708},\n",
       " {-73.937645, 40.848462},\n",
       " {-73.98626, 40.744697},\n",
       " {-73.968142, 40.768147},\n",
       " {-73.989642, 40.741328},\n",
       " {-73.98185, 40.77847},\n",
       " {-73.948122, 40.782873},\n",
       " {-73.954356, 40.78711},\n",
       " {-73.985855, 40.762862},\n",
       " {-73.976302, 40.78579},\n",
       " {-73.95305, 40.782512},\n",
       " {-73.953405, 40.771552},\n",
       " {-73.968517, 40.759172},\n",
       " {-74.007735, 40.740622},\n",
       " {-73.974878, 40.750938},\n",
       " {-73.963497, 40.77435},\n",
       " {-73.9454, 40.77831},\n",
       " {-73.998625, 40.760477},\n",
       " {-73.954888, 40.77338},\n",
       " {-73.962616, 40.760643},\n",
       " {-73.98489, 40.68703},\n",
       " {-73.98298, 40.77164},\n",
       " {-73.97692, 40.764902},\n",
       " {-73.962998, 40.767331},\n",
       " {-73.954987, 40.77919},\n",
       " {-73.974485, 40.763407},\n",
       " {-73.975967, 40.751124},\n",
       " {-74.000955, 40.73599},\n",
       " {-73.985524, 40.761058},\n",
       " {-73.998101, 40.745909},\n",
       " {-73.991395, 40.744849},\n",
       " {-73.994657, 40.750342},\n",
       " {-73.986105, 40.763665},\n",
       " {-73.9606, 40.765862},\n",
       " {-73.98991, 40.75729},\n",
       " {-73.979234, 40.763148},\n",
       " {-74.004265, 40.70626},\n",
       " {-73.956252, 40.782011},\n",
       " {-73.984354, 40.671487},\n",
       " {-73.989329, 40.753034},\n",
       " {-73.981732, 40.744997},\n",
       " {-73.989213, 40.721882},\n",
       " {-73.974746, 40.752342},\n",
       " {-74.008147, 40.709415},\n",
       " {-73.96482, 40.755637},\n",
       " {-73.981522, 40.780847},\n",
       " {-73.995368, 40.73668},\n",
       " {-74.004445, 40.707517},\n",
       " {-73.99012, 40.73706},\n",
       " {-73.987085, 40.769119},\n",
       " {-73.99465, 40.750492},\n",
       " {-73.957448, 40.779416},\n",
       " {-73.961831, 40.779454},\n",
       " {-73.871235, 40.773952},\n",
       " {-73.990317, 40.756805},\n",
       " {-73.98011, 40.766251},\n",
       " {-73.98622, 40.747098},\n",
       " {-73.963485, 40.774347},\n",
       " {-73.988662, 40.73735},\n",
       " {-73.976157, 40.755507},\n",
       " {0.0},\n",
       " {-73.978578, 40.77734},\n",
       " {-74.00019, 40.730313},\n",
       " {-73.964002, 40.770965},\n",
       " {-74.003746, 40.747897},\n",
       " {-73.992796, 40.743013},\n",
       " {-73.976146, 40.757036},\n",
       " {-73.990808, 40.75083},\n",
       " {-73.99322, 40.747865},\n",
       " {-73.937667, 40.758215},\n",
       " {-73.943522, 40.750687},\n",
       " {-73.99974, 40.734432},\n",
       " {-73.983307, 40.766799},\n",
       " {-74.004754, 40.752133},\n",
       " {-74.00689, 40.719627},\n",
       " {-73.86361, 40.77012},\n",
       " {-73.992042, 40.753714},\n",
       " {-73.97747, 40.779378},\n",
       " {-73.989047, 40.764967},\n",
       " {-73.990509, 40.724772},\n",
       " {-73.990455, 40.734817},\n",
       " {-73.990012, 40.751752},\n",
       " {-73.994046, 40.756564},\n",
       " {-74.000354, 40.742736},\n",
       " {0.0},\n",
       " {-74.004627, 40.741672},\n",
       " {-73.99738, 40.72597},\n",
       " {-73.992388, 40.743772},\n",
       " {-74.009677, 40.71032},\n",
       " {-74.010269, 40.710885},\n",
       " {-73.969685, 40.768567},\n",
       " {-73.987748, 40.755322},\n",
       " {-73.993015, 40.750872},\n",
       " {-73.982322, 40.691887},\n",
       " {-73.996735, 40.753002},\n",
       " {-73.970445, 40.765657},\n",
       " {-73.987265, 40.718429},\n",
       " {-73.978503, 40.75261},\n",
       " {-73.963199, 40.774841},\n",
       " {-73.955068, 40.820267},\n",
       " {-73.995245, 40.749905},\n",
       " {-73.976825, 40.790222},\n",
       " {-73.993928, 40.751243},\n",
       " {-73.984837, 40.769372},\n",
       " {-73.9623, 40.802452},\n",
       " {-73.99121, 40.740012},\n",
       " {-73.98706, 40.724477},\n",
       " {-73.804526, 40.649679},\n",
       " {-73.965213, 40.763434},\n",
       " {-73.936919, 40.813836},\n",
       " {-73.983003, 40.748613},\n",
       " {-73.990297, 40.756067},\n",
       " {-73.993905, 40.751127},\n",
       " {-73.974641, 40.757541},\n",
       " {-73.951313, 40.783417},\n",
       " {-73.962448, 40.755617},\n",
       " {-73.991015, 40.770837},\n",
       " {-73.86622, 40.770932},\n",
       " {-73.995955, 40.742625},\n",
       " {-73.98615, 40.767386},\n",
       " {-73.98997, 40.729417},\n",
       " {0.0},\n",
       " {-73.97671, 40.76026},\n",
       " {-73.973209, 40.748453},\n",
       " {-73.98895, 40.763605},\n",
       " {-74.006705, 40.735872},\n",
       " {-73.969672, 40.761363},\n",
       " {-73.997122, 40.661145},\n",
       " {-73.987952, 40.748542},\n",
       " {-73.954135, 40.781112},\n",
       " {-73.957122, 40.762465},\n",
       " {-74.00412, 40.74805},\n",
       " {-73.959577, 40.780242},\n",
       " {-73.976783, 40.764726},\n",
       " {-74.002744, 40.733294},\n",
       " {-73.993847, 40.74976},\n",
       " {-73.969728, 40.753168},\n",
       " {-73.973033, 40.764099},\n",
       " {-73.970537, 40.796757},\n",
       " {-73.976836, 40.765015},\n",
       " {-73.988933, 40.722397},\n",
       " {-73.958018, 40.784722},\n",
       " {-74.006202, 40.734082},\n",
       " {-73.98274, 40.74772},\n",
       " {-73.988897, 40.774329},\n",
       " {-73.99317, 40.742366},\n",
       " {-74.001677, 40.739342},\n",
       " {-73.985773, 40.756363},\n",
       " {-73.983499, 40.738254},\n",
       " {-73.990119, 40.735046},\n",
       " {-73.997045, 40.755857},\n",
       " {-73.960927, 40.772357},\n",
       " {-73.95043, 40.775272},\n",
       " {-73.988995, 40.763642},\n",
       " {-73.862845, 40.768787},\n",
       " {-73.952635, 40.772327},\n",
       " {-73.97391, 40.750617},\n",
       " {-73.998152, 40.74049},\n",
       " {-73.977369, 40.759067},\n",
       " {-73.98244, 40.762444},\n",
       " {-73.874592, 40.774087},\n",
       " {-73.981283, 40.781736},\n",
       " {-73.989042, 40.757812},\n",
       " {-73.97763, 40.787172}]"
      ]
     },
     "execution_count": 128,
     "metadata": {},
     "output_type": "execute_result"
    }
   ],
   "source": [
    "first_location = location(first_trip) # [40.64499, -73.78115]\n",
    "first_location # [40.64499, -73.78115]"
   ]
  },
  {
   "cell_type": "markdown",
   "metadata": {},
   "source": [
    "Ok, now that we can turn a trip into a location, let's turn a location into a marker.  Write a function called `to_marker` that takes in a location (in the form of a list) as an argument, and returns a folium `circleMarker` for that location.  The radius of the marker should always equal 6."
   ]
  },
  {
   "cell_type": "code",
   "execution_count": null,
   "metadata": {},
   "outputs": [],
   "source": [
    "def to_marker(location):\n",
    "    pass"
   ]
  },
  {
   "cell_type": "code",
   "execution_count": null,
   "metadata": {},
   "outputs": [],
   "source": [
    "import json\n",
    "times_square_marker = to_marker([40.7589, -73.9851])\n",
    "\n",
    "times_square_marker and times_square_marker.location # [40.7589, -73.9851]\n",
    "times_square_marker and json.loads(times_square_marker.options)['radius'] # 6"
   ]
  },
  {
   "cell_type": "markdown",
   "metadata": {},
   "source": [
    "Ok, now that we know how to produce a single marker, let's write a function to produce lots.  We can write a function called `markers_from_trips` that takes in a list of trips, and returns a marker object for each trip.  "
   ]
  },
  {
   "cell_type": "code",
   "execution_count": null,
   "metadata": {},
   "outputs": [],
   "source": [
    "def markers_from_trips(trips):\n",
    "    pass"
   ]
  },
  {
   "cell_type": "code",
   "execution_count": null,
   "metadata": {},
   "outputs": [],
   "source": [
    "trip_markers = markers_from_trips(cleaned_trips)"
   ]
  },
  {
   "cell_type": "code",
   "execution_count": null,
   "metadata": {},
   "outputs": [],
   "source": [
    "cleaned_trips[0:4]"
   ]
  },
  {
   "cell_type": "code",
   "execution_count": null,
   "metadata": {},
   "outputs": [],
   "source": [
    "trip_markers and len(trip_markers) # 1000\n",
    "\n",
    "list(map(lambda marker: marker.location, trip_markers[0:4]))\n",
    "# [[40.64499, -73.78115],\n",
    "#  [40.766931, -73.982098],\n",
    "#  [40.77773, -73.951902],\n",
    "#  [40.795678, -73.971049]]"
   ]
  },
  {
   "cell_type": "markdown",
   "metadata": {},
   "source": [
    "Ok, now that we have a function that creates locations, and a function that creates markers, it is time to write a function to plot a map. \n",
    "\n",
    "Write a function called `map_from` that, provided the first argument of a list location and second argument an integer representing the `zoom_start`, returns a `folium` map the corresponding location and `zoom_start` attributes.\n",
    "\n",
    "> Hint: The following is how to write a map with folium:\n",
    "> ```python \n",
    "    folium.Map(location=location, zoom_start=zoom_amount)\n",
    "> ```"
   ]
  },
  {
   "cell_type": "code",
   "execution_count": null,
   "metadata": {},
   "outputs": [],
   "source": [
    "def map_from(location, zoom_amount):\n",
    "    pass"
   ]
  },
  {
   "cell_type": "code",
   "execution_count": null,
   "metadata": {},
   "outputs": [],
   "source": [
    "times_square_map = map_from([40.7589, -73.9851], 15)\n",
    "times_square_map and times_square_map.location # [40.7589, -73.9851]\n",
    "times_square_map and times_square_map.zoom_start # 15"
   ]
  },
  {
   "cell_type": "code",
   "execution_count": null,
   "metadata": {
    "scrolled": true
   },
   "outputs": [],
   "source": [
    "times_square_marker and times_square_marker.add_to(times_square_map)\n",
    "times_square_map"
   ]
  },
  {
   "cell_type": "markdown",
   "metadata": {},
   "source": [
    "Now that we have a marker and a map, now let's write a function that adds a lot of markers to a map.  This function should add each marker in the list to the map object then return the updated map object."
   ]
  },
  {
   "cell_type": "code",
   "execution_count": null,
   "metadata": {},
   "outputs": [],
   "source": [
    "manhattan_map = map_from([40.7589, -73.9851], 13)"
   ]
  },
  {
   "cell_type": "code",
   "execution_count": null,
   "metadata": {},
   "outputs": [],
   "source": [
    "def add_markers(markers, map_obj):\n",
    "    pass"
   ]
  },
  {
   "cell_type": "code",
   "execution_count": null,
   "metadata": {
    "scrolled": false
   },
   "outputs": [],
   "source": [
    "map_with_markers = add_markers(trip_markers, manhattan_map)"
   ]
  },
  {
   "cell_type": "code",
   "execution_count": null,
   "metadata": {},
   "outputs": [],
   "source": [
    "map_with_markers"
   ]
  },
  {
   "cell_type": "markdown",
   "metadata": {},
   "source": [
    "### Using Nearest Neighbors"
   ]
  },
  {
   "cell_type": "markdown",
   "metadata": {},
   "source": [
    "Ok, let's write a function that given a latitude and longitude will predict the distance for us.  We'll do this by first finding the nearest trips given a latitude and longitude. "
   ]
  },
  {
   "cell_type": "markdown",
   "metadata": {},
   "source": [
    "Here we once again apply the nearest neighbors formula. As a first step, write a function named `distance_location` that calculates the distance in pickup location between two trips."
   ]
  },
  {
   "cell_type": "code",
   "execution_count": null,
   "metadata": {},
   "outputs": [],
   "source": [
    "import math\n",
    "\n",
    "def distance_location(selected_trip, neighbor_trip):\n",
    "    pass"
   ]
  },
  {
   "cell_type": "code",
   "execution_count": null,
   "metadata": {},
   "outputs": [],
   "source": [
    "first_trip = {'pickup_latitude': 40.64499, 'pickup_longitude': -73.78115, 'trip_distance': 18.38}\n",
    "second_trip = {'pickup_latitude': 40.766931, 'pickup_longitude': -73.982098, 'trip_distance': 1.3}\n",
    "distance_first_and_second = distance_location(first_trip, second_trip)\n",
    "\n",
    "distance_first_and_second and round(distance_first_and_second, 3) # 0.235"
   ]
  },
  {
   "cell_type": "markdown",
   "metadata": {},
   "source": [
    "Ok, next write a function called `distance_between_neighbors` that adds a new key-value pair, called `distance_from_selected`, that calculates the distance of the `neighbor_trip` from the `selected_trip`."
   ]
  },
  {
   "cell_type": "code",
   "execution_count": null,
   "metadata": {},
   "outputs": [],
   "source": [
    "def distance_between_neighbors(selected_trip, neighbor_trip):\n",
    "    pass"
   ]
  },
  {
   "cell_type": "code",
   "execution_count": null,
   "metadata": {},
   "outputs": [],
   "source": [
    "distance_between_neighbors(first_trip, second_trip)\n",
    "\n",
    "# {'distance_from_selected': 0.23505256047318146,\n",
    "#  'pickup_latitude': 40.766931,\n",
    "#  'pickup_longitude': -73.982098,\n",
    "#  'trip_distance': 1.3}"
   ]
  },
  {
   "cell_type": "markdown",
   "metadata": {},
   "source": [
    "Ok, now our `neighbor_trip` has another attribute called `distance_from_selected`, that indicates the distance from the `neighbor_trip`'s pickup location from the `selected_trip`."
   ]
  },
  {
   "cell_type": "markdown",
   "metadata": {},
   "source": [
    "> ** Understand the data:** Our dictionary now has a few attributes, two of which say distance.  Let's make sure we understand the difference. \n",
    "> * **`distance_from_selected`:** This is our calculation of the distance of the neighbor's pickup location from the selected trip.\n",
    "> * **`trip_distance`:** This is the attribute we were provided initially.  It tells us the length of the neighbor's taxi trip from pickup to drop-off.  "
   ]
  },
  {
   "cell_type": "markdown",
   "metadata": {},
   "source": [
    "Next, write a function called `distance_all` that provided a list of neighbors, returns each of those neighbors with their respective `distance_from_selected` numbers."
   ]
  },
  {
   "cell_type": "code",
   "execution_count": null,
   "metadata": {},
   "outputs": [],
   "source": [
    "def distance_all(selected_individual, neighbors):\n",
    "    pass"
   ]
  },
  {
   "cell_type": "code",
   "execution_count": null,
   "metadata": {},
   "outputs": [],
   "source": [
    "cleaned_trips and distance_all(first_trip, cleaned_trips[0:4])"
   ]
  },
  {
   "cell_type": "markdown",
   "metadata": {},
   "source": [
    "Now write the nearest neighbors formula to calculate the distance of the `selected_trip` from all of the `cleaned_trips` in our dataset.  If no number is provided, it should return the top 3 neighbors."
   ]
  },
  {
   "cell_type": "code",
   "execution_count": null,
   "metadata": {},
   "outputs": [],
   "source": [
    "def nearest_neighbors(selected_trip, trips, number = 3):\n",
    "    pass"
   ]
  },
  {
   "cell_type": "code",
   "execution_count": null,
   "metadata": {},
   "outputs": [],
   "source": [
    "new_trip = {'pickup_latitude': 40.64499,\n",
    "'pickup_longitude': -73.78115,\n",
    "'trip_distance': 18.38}\n",
    "\n",
    "nearest_three_neighbors = nearest_neighbors(new_trip, cleaned_trips or [], number = 3)\n",
    "nearest_three_neighbors\n",
    "# [{'distance_from_selected': 0.0004569288784918792,\n",
    "#   'pickup_latitude': 40.64483,\n",
    "#   'pickup_longitude': -73.781578,\n",
    "#   'trip_distance': 7.78},\n",
    "#  {'distance_from_selected': 0.0011292165425673159,\n",
    "#   'pickup_latitude': 40.644657,\n",
    "#   'pickup_longitude': -73.782229,\n",
    "#   'trip_distance': 12.7},\n",
    "#  {'distance_from_selected': 0.0042359798158141185,\n",
    "#   'pickup_latitude': 40.648509,\n",
    "#   'pickup_longitude': -73.783508,\n",
    "#   'trip_distance': 17.3}]"
   ]
  },
  {
   "cell_type": "markdown",
   "metadata": {},
   "source": [
    "Ok great! Now that we can provide a new trip location, and find the distances of the three nearest trips, we can take  calculate an estimate of the trip distance for that new trip location.  \n",
    "\n",
    "We do so simply by calculating the average of it's nearest neighbors."
   ]
  },
  {
   "cell_type": "code",
   "execution_count": null,
   "metadata": {},
   "outputs": [],
   "source": [
    "import statistics\n",
    "def mean_distance(neighbors):\n",
    "    nearest_distances = list(map(lambda neighbor: neighbor['trip_distance'], neighbors))\n",
    "    return round(statistics.mean(nearest_distances), 3)\n",
    "\n",
    "nearest_three_neighbors = nearest_neighbors(new_trip, cleaned_trips or [], number = 3)\n",
    "distance_estimate_of_selected_trip = mean_distance(nearest_three_neighbors) # 12.593\n",
    "distance_estimate_of_selected_trip"
   ]
  },
  {
   "cell_type": "markdown",
   "metadata": {},
   "source": [
    "### Choosing the correct number of neighbors"
   ]
  },
  {
   "cell_type": "markdown",
   "metadata": {},
   "source": [
    "Now, as we know from the last lesson, one tricky element is to determine how many neighbors to choose, our $k$ value,  before calculating the average.  We want to choose our value of $k$ such that it properly matches actual data, and so that it applies to new data.  There are fancy formulas to ensure that we **train** our algorithm so that our formula is optimized for all data, but here let's see different $k$ values manually.  This is the gist of choosing our $k$ value:\n",
    "\n",
    "* If we choose a $k$ value too low, our formula will be too heavily influenced by a single neighbor, whereas if our $k$ value is too high, we will be choosing so many neighbors that our nearest neighbors formula will not be adjust enough according to locations.\n",
    "\n",
    "Ok, let's experiment with this."
   ]
  },
  {
   "cell_type": "markdown",
   "metadata": {},
   "source": [
    "First, let's choose a midtown location, to see what the trip distance would be.  A Google search reveals the coordinates of 51st and 7th avenue to be the following."
   ]
  },
  {
   "cell_type": "code",
   "execution_count": null,
   "metadata": {},
   "outputs": [],
   "source": [
    "midtown_trip = dict(pickup_latitude=40.761710, pickup_longitude=-73.982760)"
   ]
  },
  {
   "cell_type": "code",
   "execution_count": null,
   "metadata": {},
   "outputs": [],
   "source": [
    "seven_closest = nearest_neighbors(midtown_trip, cleaned_trips, number = 7)\n",
    "seven_closest\n",
    "# [{'trip_distance': 0.58,\n",
    "#   'pickup_latitude': 40.761372,\n",
    "#   'pickup_longitude': -73.982602,\n",
    "#   'distance_from_selected': 0.00037310588309379025},\n",
    "#  {'trip_distance': 0.8,\n",
    "#   'pickup_latitude': 40.762444,\n",
    "#   'pickup_longitude': -73.98244,\n",
    "#   'distance_from_selected': 0.00080072217404248},\n",
    "#  {'trip_distance': 1.4,\n",
    "#   'pickup_latitude': 40.762767,\n",
    "#   'pickup_longitude': -73.982293,\n",
    "#   'distance_from_selected': 0.0011555682584735844},\n",
    "#  {'trip_distance': 8.3,\n",
    "#   'pickup_latitude': 40.762868,\n",
    "#   'pickup_longitude': -73.983233,\n",
    "#   'distance_from_selected': 0.0012508768924205918},\n",
    "#  {'trip_distance': 1.26,\n",
    "#   'pickup_latitude': 40.760057,\n",
    "#   'pickup_longitude': -73.983502,\n",
    "#   'distance_from_selected': 0.0018118976240381972},\n",
    "#  {'trip_distance': 0.0,\n",
    "#   'pickup_latitude': 40.760644,\n",
    "#   'pickup_longitude': -73.984531,\n",
    "#   'distance_from_selected': 0.002067074502774709},\n",
    "#  {'trip_distance': 1.72,\n",
    "#   'pickup_latitude': 40.762107,\n",
    "#   'pickup_longitude': -73.98479,\n",
    "#   'distance_from_selected': 0.0020684557041472677}]"
   ]
  },
  {
   "cell_type": "markdown",
   "metadata": {},
   "source": [
    "Looking at the `distance_from_selected` it appears that our our trips are still fairly close to our selected trip.  Notice that most of the data is within a distance of .002 away, so going to the top 7 nearest neighbors didn't seem to give us neighbors too far from each other, which is a good sign.\n",
    "\n",
    "Still, it's hard to know what distance in latitude and longitude really look like, so let's map the data. "
   ]
  },
  {
   "cell_type": "code",
   "execution_count": null,
   "metadata": {},
   "outputs": [],
   "source": [
    "midtown_location = location(midtown_trip) # [40.76171, -73.98276]\n",
    "midtown_map = map_from(midtown_location, 16)\n",
    "closest_markers = markers_from_trips(seven_closest)\n",
    "\n",
    "add_markers(closest_markers, midtown_map)"
   ]
  },
  {
   "cell_type": "markdown",
   "metadata": {},
   "source": [
    "Ok.  These locations stay fairly close to our estimated location of 51st street and 7th Avenue.  So they could be a good estimate of a trip distance."
   ]
  },
  {
   "cell_type": "code",
   "execution_count": null,
   "metadata": {},
   "outputs": [],
   "source": [
    "mean_distance(seven_closest) # 2.009"
   ]
  },
  {
   "cell_type": "markdown",
   "metadata": {},
   "source": [
    "Ok, now let's try a different location"
   ]
  },
  {
   "cell_type": "code",
   "execution_count": null,
   "metadata": {},
   "outputs": [],
   "source": [
    "charging_bull_closest = nearest_neighbors({'pickup_latitude': 40.7049, 'pickup_longitude': -74.0137}, cleaned_trips, number = 12)"
   ]
  },
  {
   "cell_type": "code",
   "execution_count": null,
   "metadata": {
    "scrolled": true
   },
   "outputs": [],
   "source": [
    "mean_distance(charging_bull_closest) # 3.145"
   ]
  },
  {
   "cell_type": "markdown",
   "metadata": {},
   "source": [
    "Ok, so there appears to be a significant difference between choosing a location near Times Square versus choosing a location at Wall Street."
   ]
  },
  {
   "cell_type": "markdown",
   "metadata": {},
   "source": [
    "### Summary"
   ]
  },
  {
   "cell_type": "markdown",
   "metadata": {},
   "source": [
    "In this lab, we used the nearest neighbors function to predict the length of a taxi ride.  To do so, we selected a location, then found a number of taxi rides closest to that location, and finally took the average trip lengths of the nearest taxi rides to find an estimate of the new ride's trip length.  You can see that even with just a little bit of math and programming we can begin to make meaningful predictions with data."
   ]
  }
 ],
 "metadata": {
  "kernelspec": {
   "display_name": "Python 3",
   "language": "python",
   "name": "python3"
  },
  "language_info": {
   "codemirror_mode": {
    "name": "ipython",
    "version": 3
   },
   "file_extension": ".py",
   "mimetype": "text/x-python",
   "name": "python",
   "nbconvert_exporter": "python",
   "pygments_lexer": "ipython3",
   "version": "3.6.9"
  }
 },
 "nbformat": 4,
 "nbformat_minor": 2
}
