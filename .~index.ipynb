{
 "cells": [
  {
   "cell_type": "markdown",
   "metadata": {},
   "source": [
    "# Nearest Neighbors Lab"
   ]
  },
  {
   "cell_type": "markdown",
   "metadata": {},
   "source": [
    "### Introduction\n",
    "\n",
    "In this lab, you apply nearest neighbors technique to help a taxi company predict the length of their rides.  Imagine that we are hired to consult for LiftOff, a limo and taxi service that is just opening up in NYC.  Liftoff wants it's taxi drivers to target longer rides, as the longer the ride the more money it makes.  LiftOff has the following theory:\n",
    "\n",
    "* the pickup location of a taxi ride can help predict the length of the ride.  \n",
    "\n",
    "\n",
    "\n",
    "LiftOff asks us to do some analysis to write a function that will allow it to **predict the length of a taxi ride for any given location **.\n",
    "\n",
    "Our technique will be the following:\n",
    "  * **Collect** Obtain the data containing all of the taxi information, and only select the attributes of taxi trips that we need \n",
    "  * ** Explore ** Examine the attributes of our data, and plot some of our data on a map\n",
    "  * ** Train ** Write our nearest neighbors formula, and change the number of nearby trips to predict the length of a new trip\n",
    "  * ** Predict ** Use our function to predict trip lengths of new locations"
   ]
  },
  {
   "cell_type": "markdown",
   "metadata": {},
   "source": [
    "### Collect and Explore the data"
   ]
  },
  {
   "cell_type": "markdown",
   "metadata": {},
   "source": [
    "#### Collect the Data"
   ]
  },
  {
   "cell_type": "markdown",
   "metadata": {},
   "source": [
    "Luckily for us, [NYC Open Data](https://opendata.cityofnewyork.us/) collects information about NYC taxi trips and provides this data on [its website](https://data.cityofnewyork.us/Transportation/2014-Yellow-Taxi-Trip-Data/gn7m-em8n)."
   ]
  },
  {
   "cell_type": "markdown",
   "metadata": {},
   "source": [
    "![](./nyc-taxi.png)"
   ]
  },
  {
   "cell_type": "markdown",
   "metadata": {},
   "source": [
    "For your reading pleasure, the data has already been downloaded into the [trips.json](https://github.com/learn-co-curriculum/nearest-neighbors-lab/blob/master/trips.json) file in this lab which you can find here.  We'll use Python's `json` library to take the data from the `trips.json` file and store it as a variable in our notebook."
   ]
  },
  {
   "cell_type": "code",
   "execution_count": 1,
   "metadata": {},
   "outputs": [],
   "source": [
    "import json\n",
    "# First, read the file\n",
    "trips_file = open('trips.json')\n",
    "# Then, convert contents to list of dictionaries \n",
    "trips = json.load(trips_file)"
   ]
  },
  {
   "cell_type": "markdown",
   "metadata": {},
   "source": [
    "> Press shift + enter"
   ]
  },
  {
   "cell_type": "markdown",
   "metadata": {},
   "source": [
    "#### Explore the data"
   ]
  },
  {
   "cell_type": "markdown",
   "metadata": {},
   "source": [
    "The next step is to explore the data.  First, let's see how many trips we have."
   ]
  },
  {
   "cell_type": "code",
   "execution_count": 2,
   "metadata": {},
   "outputs": [
    {
     "data": {
      "text/plain": [
       "1000"
      ]
     },
     "execution_count": 2,
     "metadata": {},
     "output_type": "execute_result"
    }
   ],
   "source": [
    "len(trips)"
   ]
  },
  {
   "cell_type": "markdown",
   "metadata": {},
   "source": [
    "Not bad at all.  Now let's see what each individual trip looks like.  Each trip is a dictionary, so we can see the attributes of each trip with the `keys` function."
   ]
  },
  {
   "cell_type": "code",
   "execution_count": 3,
   "metadata": {
    "scrolled": true
   },
   "outputs": [
    {
     "data": {
      "text/plain": [
       "dict_keys(['dropoff_datetime', 'dropoff_latitude', 'dropoff_longitude', 'fare_amount', 'imp_surcharge', 'mta_tax', 'passenger_count', 'payment_type', 'pickup_datetime', 'pickup_latitude', 'pickup_longitude', 'rate_code', 'tip_amount', 'tolls_amount', 'total_amount', 'trip_distance', 'vendor_id'])"
      ]
     },
     "execution_count": 3,
     "metadata": {},
     "output_type": "execute_result"
    }
   ],
   "source": [
    "trips[0].keys()"
   ]
  },
  {
   "cell_type": "markdown",
   "metadata": {},
   "source": [
    "#### Limit our data"
   ]
  },
  {
   "cell_type": "markdown",
   "metadata": {},
   "source": [
    "Ok, now that we have explored some of our data, let's begin to think through what data is relevant for our task."
   ]
  },
  {
   "cell_type": "markdown",
   "metadata": {
    "collapsed": true
   },
   "source": [
    "Remember that our task is to **use the trip location to predict the length of a trip**.  So let's select the `pickup_latitude`, `pickup_longitude`, and `trip_distance` from each trip.  That will give us the trip location and related `trip_distance` for each trip.  Then based on these **actual** trip distances we can use nearest neighbors to predict an **expected** trip distance for a trip, provided an **actual** location."
   ]
  },
  {
   "cell_type": "markdown",
   "metadata": {},
   "source": [
    "** Add in about trip distance ** "
   ]
  },
  {
   "cell_type": "markdown",
   "metadata": {},
   "source": [
    "Write a function called `parse_trips(trips)` that returns a list of the trips with only the following attributes: \n",
    "* `trip_distance`\n",
    "* `pickup_latitude`\n",
    "* `pickup_longitude`"
   ]
  },
  {
   "cell_type": "code",
   "execution_count": 4,
   "metadata": {},
   "outputs": [],
   "source": [
    "def parse_trips(trips):\n",
    "    uhum = {'pickup_latitude', 'pickup_longitude', 'trip_distance'}\n",
    "    leggo = list(map(lambda nyc: {k:v for k,v in nyc.items() if k in uhum}, trips))\n",
    "    return leggo"
   ]
  },
  {
   "cell_type": "code",
   "execution_count": 5,
   "metadata": {},
   "outputs": [
    {
     "data": {
      "text/plain": [
       "{'pickup_latitude': '40.64499',\n",
       " 'pickup_longitude': '-73.781149999999997',\n",
       " 'trip_distance': '18.379999999999999'}"
      ]
     },
     "execution_count": 5,
     "metadata": {},
     "output_type": "execute_result"
    }
   ],
   "source": [
    "parsed_trips = parse_trips(trips)\n",
    "parsed_trips and parsed_trips[0]\n",
    "\n",
    "# {'pickup_latitude': '40.64499',\n",
    "#  'pickup_longitude': '-73.78115',\n",
    "#  'trip_distance': '18.38'}"
   ]
  },
  {
   "cell_type": "markdown",
   "metadata": {},
   "source": [
    "Now, there's just one change to make.  If you look at one of the trips, all of the values are strings.  Let's change them to be floats."
   ]
  },
  {
   "cell_type": "code",
   "execution_count": 50,
   "metadata": {},
   "outputs": [],
   "source": [
    "def float_values(trips):    \n",
    "    hmm = list(map(lambda flo: {(k,float(v)) for k,v in flo.items()}, parsed_trips))\n",
    "    return hmm"
   ]
  },
  {
   "cell_type": "code",
   "execution_count": 51,
   "metadata": {},
   "outputs": [],
   "source": [
    "cleaned_trips = float_values(parsed_trips)"
   ]
  },
  {
   "cell_type": "code",
   "execution_count": 52,
   "metadata": {},
   "outputs": [
    {
     "data": {
      "text/plain": [
       "{('pickup_latitude', 40.64499),\n",
       " ('pickup_longitude', -73.78115),\n",
       " ('trip_distance', 18.38)}"
      ]
     },
     "execution_count": 52,
     "metadata": {},
     "output_type": "execute_result"
    }
   ],
   "source": [
    "cleaned_trips[0]\n",
    "\n",
    "# {'pickup_latitude': 40.64499,\n",
    "#  'pickup_longitude': -73.78115,\n",
    "#  'trip_distance': 18.38}"
   ]
  },
  {
   "cell_type": "markdown",
   "metadata": {},
   "source": [
    "### Exploring the Data"
   ]
  },
  {
   "cell_type": "markdown",
   "metadata": {},
   "source": [
    "Now that we have paired down our data, let's get a sense of our trip data.  We can use the `folium` Python library to plot a map of Manhattan, and our data.  First we must import `folium`, and then use the `Map` function to pass through a `location`, and `zoom_start`.  If a map isn't showing up below, copy and paste the command `pip install -r requirements.txt` into your terminal to install `folium` then try again."
   ]
  },
  {
   "cell_type": "code",
   "execution_count": 9,
   "metadata": {},
   "outputs": [],
   "source": [
    "import folium\n",
    "manhattan_map = folium.Map(location=[40.7589, -73.9851], zoom_start=11)"
   ]
  },
  {
   "cell_type": "code",
   "execution_count": 10,
   "metadata": {
    "scrolled": true
   },
   "outputs": [
    {
     "data": {
      "text/html": [
       "<div style=\"width:100%;\"><div style=\"position:relative;width:100%;height:0;padding-bottom:60%;\"><iframe src=\"data:text/html;charset=utf-8;base64,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\" style=\"position:absolute;width:100%;height:100%;left:0;top:0;border:none !important;\" allowfullscreen webkitallowfullscreen mozallowfullscreen></iframe></div></div>"
      ],
      "text/plain": [
       "<folium.folium.Map at 0x7fc23a53ce10>"
      ]
     },
     "execution_count": 10,
     "metadata": {},
     "output_type": "execute_result"
    }
   ],
   "source": [
    "manhattan_map"
   ]
  },
  {
   "cell_type": "markdown",
   "metadata": {},
   "source": [
    "Ok, now let's see how we could add a dot to mark a specific location.  We'll start with Times Square."
   ]
  },
  {
   "cell_type": "code",
   "execution_count": 11,
   "metadata": {},
   "outputs": [
    {
     "data": {
      "text/plain": [
       "<folium.vector_layers.CircleMarker at 0x7fc20d9c9a20>"
      ]
     },
     "execution_count": 11,
     "metadata": {},
     "output_type": "execute_result"
    }
   ],
   "source": [
    "marker = folium.CircleMarker(location = [40.7589, -73.9851], radius=10)\n",
    "marker.add_to(manhattan_map)"
   ]
  },
  {
   "cell_type": "markdown",
   "metadata": {},
   "source": [
    "Above, we first create a marker.  Then we add that circle marker to the `manhattan_map` we created earlier. "
   ]
  },
  {
   "cell_type": "code",
   "execution_count": 12,
   "metadata": {
    "scrolled": false
   },
   "outputs": [
    {
     "data": {
      "text/html": [
       "<div style=\"width:100%;\"><div style=\"position:relative;width:100%;height:0;padding-bottom:60%;\"><iframe src=\"data:text/html;charset=utf-8;base64,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\" style=\"position:absolute;width:100%;height:100%;left:0;top:0;border:none !important;\" allowfullscreen webkitallowfullscreen mozallowfullscreen></iframe></div></div>"
      ],
      "text/plain": [
       "<folium.folium.Map at 0x7fc23a53ce10>"
      ]
     },
     "execution_count": 12,
     "metadata": {},
     "output_type": "execute_result"
    }
   ],
   "source": [
    "manhattan_map"
   ]
  },
  {
   "cell_type": "markdown",
   "metadata": {},
   "source": [
    "Do you see that blue dot near Time's Square?  That is our marker.  \n",
    "\n",
    "So now that we can plot one marker on a map, we should have a sense of how we can plot many markers on a map to display our taxi ride data.  We simply plot a map, and then we add a marker for each location of a taxi trip.\n",
    "\n",
    "Now let's write some functions to allow us to plot maps and add markers a little more easily.  "
   ]
  },
  {
   "cell_type": "markdown",
   "metadata": {},
   "source": [
    "#### Writing some map plotting functions"
   ]
  },
  {
   "cell_type": "markdown",
   "metadata": {},
   "source": [
    "As a first step towards this, note that the functions to create both a marker and map each take in a location as two element list, representing the latitude and longitude values.  Take another look:\n",
    "\n",
    "```python\n",
    "marker = folium.CircleMarker(location = [40.7589, -73.9851])\n",
    "manhattan_map = folium.Map(location=[40.7589, -73.9851])\n",
    "```\n",
    "\n",
    "So let's write a function called to create this two element list from a trip.  Write a function called `location` that  takes in a trip as an argument and returns a list where the first element is the latitude and the second is the longitude.  Remember that a location looks like the following:"
   ]
  },
  {
   "cell_type": "code",
   "execution_count": 13,
   "metadata": {},
   "outputs": [
    {
     "data": {
      "text/plain": [
       "{'pickup_latitude': 40.64499,\n",
       " 'pickup_longitude': -73.78115,\n",
       " 'trip_distance': 18.38}"
      ]
     },
     "execution_count": 13,
     "metadata": {},
     "output_type": "execute_result"
    }
   ],
   "source": [
    "first_trip = {'pickup_latitude': 40.64499, 'pickup_longitude': -73.78115,  'trip_distance': 18.38}\n",
    "first_trip"
   ]
  },
  {
   "cell_type": "code",
   "execution_count": 48,
   "metadata": {},
   "outputs": [],
   "source": [
    "def location(trip):\n",
    "    extra = []\n",
    "    lets = list(map(lambda go: {v for k,v in go.items()}, cleaned_trips))\n",
    "    for cool in cleaned_trips:\n",
    "        extra.append(cool['pickup_latitude'])\n",
    "        extra.append(cool['pickup_longitude'])\n",
    "    return extra"
   ]
  },
  {
   "cell_type": "code",
   "execution_count": 49,
   "metadata": {},
   "outputs": [
    {
     "data": {
      "text/plain": [
       "['40.64499',\n",
       " '-73.781149999999997',\n",
       " '40.766931',\n",
       " '-73.982097999999993',\n",
       " '40.777729999999998',\n",
       " '-73.951902000000004',\n",
       " '40.795678000000002',\n",
       " '-73.971048999999994',\n",
       " '40.762912',\n",
       " '-73.967782',\n",
       " '40.731175999999998',\n",
       " '-73.991572000000005',\n",
       " '40.800218999999998',\n",
       " '-73.968097999999998',\n",
       " '40.648508999999997',\n",
       " '-73.783507999999998',\n",
       " '40.721896999999998',\n",
       " '-73.983492999999996',\n",
       " '40.791566000000003',\n",
       " '-73.972223999999997',\n",
       " '40.744895999999997',\n",
       " '-73.978618999999995',\n",
       " '40.721950999999997',\n",
       " '-73.844435000000004',\n",
       " '40.732382000000001',\n",
       " '-74.001682000000002',\n",
       " '40.768338999999997',\n",
       " '-73.961478',\n",
       " '40.775933000000002',\n",
       " '-73.962446',\n",
       " '40.794829',\n",
       " '-73.971475999999996',\n",
       " '40.758647000000003',\n",
       " '-73.964877999999999',\n",
       " '40.713638000000003',\n",
       " '-74.011587000000006',\n",
       " '40.774030000000003',\n",
       " '-73.874596999999994',\n",
       " '40.728127000000001',\n",
       " '-73.998869999999997',\n",
       " '40.759670999999997',\n",
       " '-73.976687999999996',\n",
       " '40.772651000000003',\n",
       " '-73.967095',\n",
       " '40.770319000000001',\n",
       " '-73.960222000000002',\n",
       " '40.720457000000003',\n",
       " '-73.988065000000006',\n",
       " '40.754789000000002',\n",
       " '-73.973606000000004',\n",
       " '40.755654',\n",
       " '-73.985845999999995',\n",
       " '40.741568000000001',\n",
       " '-73.978341',\n",
       " '40.736907000000002',\n",
       " '-73.988619999999997',\n",
       " '40.76003',\n",
       " '-73.964842000000004',\n",
       " '40.721366000000003',\n",
       " '-74.008286999999996',\n",
       " '40.760147000000003',\n",
       " '-73.97627',\n",
       " '40.745846999999998',\n",
       " '-74.001817000000003',\n",
       " '40.753014999999998',\n",
       " '-73.985247000000001',\n",
       " '40.644657000000002',\n",
       " '-73.782229000000001',\n",
       " '40.738767000000003',\n",
       " '-74.008600000000001',\n",
       " '40.773797000000002',\n",
       " '-73.871065000000002',\n",
       " '40.743411000000002',\n",
       " '-73.976860000000002',\n",
       " '40.758904999999999',\n",
       " '-73.967896999999994',\n",
       " '40.733877',\n",
       " '-73.989602000000005',\n",
       " '40.726162000000002',\n",
       " '-73.983431999999993',\n",
       " '40.775122000000003',\n",
       " '-73.947765000000004',\n",
       " '40.759869999999999',\n",
       " '-73.978487000000001',\n",
       " '40.707087000000001',\n",
       " '-73.943280000000001',\n",
       " '40.741911999999999',\n",
       " '-74.003578000000005',\n",
       " '40.769112',\n",
       " '-73.862679',\n",
       " '40.785806999999998',\n",
       " '-73.976387000000003',\n",
       " '40.751300000000001',\n",
       " '-73.986851999999999',\n",
       " '40.733384999999998',\n",
       " '-73.987204000000006',\n",
       " '40.760257000000003',\n",
       " '-73.976185999999998',\n",
       " '40.741249000000003',\n",
       " '-74.005201',\n",
       " '40.759794999999997',\n",
       " '-73.985352000000006',\n",
       " '40.756636',\n",
       " '-73.969700000000003',\n",
       " '40.739249999999998',\n",
       " '-74.000759000000002',\n",
       " '40.751055000000001',\n",
       " '-73.976070000000007',\n",
       " '40.723584000000002',\n",
       " '-73.995992000000001',\n",
       " '40.757036999999997',\n",
       " '-73.929485',\n",
       " '40.743385000000004',\n",
       " '-73.981977999999998',\n",
       " '40.737485999999997',\n",
       " '-73.978153000000006',\n",
       " '40.77225',\n",
       " '-73.952849999999998',\n",
       " '40.732881999999996',\n",
       " '-73.981975000000006',\n",
       " '40.774566999999998',\n",
       " '-73.988231999999996',\n",
       " '40.757437000000003',\n",
       " '-73.964735000000005',\n",
       " '40.789636999999999',\n",
       " '-73.975402000000003',\n",
       " '40.754317',\n",
       " '-73.992547999999999',\n",
       " '40.745007000000001',\n",
       " '-73.998626999999999',\n",
       " '40.734982000000002',\n",
       " '-73.990522999999996',\n",
       " '0',\n",
       " '0',\n",
       " '40.738616999999998',\n",
       " '-73.989671999999999',\n",
       " '40.790711999999999',\n",
       " '-73.972808999999998',\n",
       " '40.750166999999998',\n",
       " '-73.987397999999999',\n",
       " '40.732140999999999',\n",
       " '-73.984470000000002',\n",
       " '40.765757999999998',\n",
       " '-73.994846999999993',\n",
       " '40.792594000000001',\n",
       " '-73.964101999999997',\n",
       " '40.762908000000003',\n",
       " '-73.969549000000001',\n",
       " '40.750722000000003',\n",
       " '-73.968446999999998',\n",
       " '40.769886999999997',\n",
       " '-73.864429999999999',\n",
       " '40.772469999999998',\n",
       " '-73.982418999999993',\n",
       " '40.764544999999998',\n",
       " '-73.982668000000004',\n",
       " '40.641804999999998',\n",
       " '-73.786410000000004',\n",
       " '40.75224',\n",
       " '-73.978350000000006',\n",
       " '40.758834999999998',\n",
       " '-73.988555000000005',\n",
       " '40.722785000000002',\n",
       " '-73.988557999999998',\n",
       " '40.720337999999998',\n",
       " '-73.993645000000001',\n",
       " '40.729730000000004',\n",
       " '-73.991628000000006',\n",
       " '40.760441999999998',\n",
       " '-73.958404999999999',\n",
       " '40.756227000000003',\n",
       " '-73.983140000000006',\n",
       " '40.751555000000003',\n",
       " '-73.992904999999993',\n",
       " '40.713329999999999',\n",
       " '-74.004105999999993',\n",
       " '40.764761999999997',\n",
       " '-73.991849000000002',\n",
       " '40.763353000000002',\n",
       " '-73.985258999999999',\n",
       " '40.775292',\n",
       " '-73.982082000000005',\n",
       " '40.779515000000004',\n",
       " '-73.984852000000004',\n",
       " '40.768321999999998',\n",
       " '-73.982234000000005',\n",
       " '40.766601999999999',\n",
       " '-73.953879999999998',\n",
       " '40.763683999999998',\n",
       " '-73.981213999999994',\n",
       " '40.793086000000002',\n",
       " '-73.952091999999993',\n",
       " '40.773601999999997',\n",
       " '-73.871054999999998',\n",
       " '40.771909000000001',\n",
       " '-73.959023000000002',\n",
       " '40.774028999999999',\n",
       " '-73.961478',\n",
       " '40.749639999999999',\n",
       " '-73.972211999999999',\n",
       " '40.771541999999997',\n",
       " '-73.959532999999993',\n",
       " '40.694094999999997',\n",
       " '-73.983900000000006',\n",
       " '40.756312000000001',\n",
       " '-73.994315',\n",
       " '40.730282000000003',\n",
       " '-74.006652000000003',\n",
       " '40.777706999999999',\n",
       " '-73.955067999999997',\n",
       " '40.726087',\n",
       " '-73.994962000000001',\n",
       " '40.738385000000001',\n",
       " '-73.999885000000006',\n",
       " '40.767800000000001',\n",
       " '-73.961986999999993',\n",
       " '40.742682000000002',\n",
       " '-73.972513000000006',\n",
       " '40.770601999999997',\n",
       " '-73.982262000000006',\n",
       " '40.747967000000003',\n",
       " '-73.976726999999997',\n",
       " '40.742803000000002',\n",
       " '-74.004092999999997',\n",
       " '40.755521000000002',\n",
       " '-73.975459999999998',\n",
       " '40.760528000000001',\n",
       " '-74.002757000000003',\n",
       " '40.740732000000001',\n",
       " '-74.005512999999993',\n",
       " '40.735497000000002',\n",
       " '-74.006010000000003',\n",
       " '40.715387',\n",
       " '-74.013518000000005',\n",
       " '40.721587',\n",
       " '-73.995427000000007',\n",
       " '40.760057000000003',\n",
       " '-73.983502000000001',\n",
       " '40.740332000000002',\n",
       " '-73.986288999999999',\n",
       " '40.7455',\n",
       " '-73.977834000000001',\n",
       " '40.733125000000001',\n",
       " '-73.987273000000002',\n",
       " '40.752091999999998',\n",
       " '-73.989948999999996',\n",
       " '40.72381',\n",
       " '-73.992616999999996',\n",
       " '40.767446',\n",
       " '-73.984105',\n",
       " '40.800479000000003',\n",
       " '-73.968082999999993',\n",
       " '40.717055000000002',\n",
       " '-73.991325000000003',\n",
       " '40.748863',\n",
       " '-73.992154999999997',\n",
       " '40.804740000000002',\n",
       " '-73.947800000000001',\n",
       " '40.762202000000002',\n",
       " '-73.969014999999999',\n",
       " '0',\n",
       " '0',\n",
       " '40.740406999999998',\n",
       " '-73.987223',\n",
       " '40.722399000000003',\n",
       " '-73.997096999999997',\n",
       " '40.747571999999998',\n",
       " '-73.974091999999999',\n",
       " '40.794651000000002',\n",
       " '-73.972048000000001',\n",
       " '40.751086999999998',\n",
       " '-73.971599999999995',\n",
       " '40.719886000000002',\n",
       " '-74.009980999999996',\n",
       " '40.760886999999997',\n",
       " '-73.986959999999996',\n",
       " '40.727513999999999',\n",
       " '-74.007300000000001',\n",
       " '40.774453000000001',\n",
       " '-73.872166000000007',\n",
       " '40.741906999999998',\n",
       " '-74.003545000000003',\n",
       " '40.735118',\n",
       " '-73.979789999999994',\n",
       " '40.773907000000001',\n",
       " '-73.871274999999997',\n",
       " '40.758937000000003',\n",
       " '-73.994231999999997',\n",
       " '40.752144000000001',\n",
       " '-73.977198999999999',\n",
       " '40.745641999999997',\n",
       " '-73.990757000000002',\n",
       " '40.718789999999998',\n",
       " '-73.989840000000001',\n",
       " '40.739944999999999',\n",
       " '-74.006124',\n",
       " '40.777574999999999',\n",
       " '-73.986287000000004',\n",
       " '40.753632000000003',\n",
       " '-73.988899000000004',\n",
       " '40.747329999999998',\n",
       " '-73.977029999999999',\n",
       " '40.769821999999998',\n",
       " '-73.960595999999995',\n",
       " '40.724657999999998',\n",
       " '-73.997130999999996',\n",
       " '40.758344999999998',\n",
       " '-73.989397999999994',\n",
       " '40.764806999999998',\n",
       " '-73.976690000000005',\n",
       " '40.772846999999999',\n",
       " '-73.962703000000005',\n",
       " '40.793681999999997',\n",
       " '-73.966971999999998',\n",
       " '40.760007000000002',\n",
       " '-73.978039999999993',\n",
       " '40.747252000000003',\n",
       " '-73.888215000000002',\n",
       " '40.756391999999998',\n",
       " '-73.967522000000002',\n",
       " '40.763685000000002',\n",
       " '-73.977714000000006',\n",
       " '40.767068000000002',\n",
       " '-73.982804999999999',\n",
       " '40.775959999999998',\n",
       " '-73.987279999999998',\n",
       " '40.739617000000003',\n",
       " '-73.984662999999998',\n",
       " '40.751953',\n",
       " '-73.976404000000002',\n",
       " '40.718634999999999',\n",
       " '-74.000951999999998',\n",
       " '40.7331',\n",
       " '-73.981375',\n",
       " '40.774630000000002',\n",
       " '-73.963220000000007',\n",
       " '40.753675000000001',\n",
       " '-73.984942000000004',\n",
       " '40.763261999999997',\n",
       " '-73.959479999999999',\n",
       " '40.768895000000001',\n",
       " '-73.958236999999997',\n",
       " '40.641374999999996',\n",
       " '-73.788934999999995',\n",
       " '40.745471999999999',\n",
       " '-73.986660000000001',\n",
       " '40.707562000000003',\n",
       " '-74.004372000000004',\n",
       " '40.753309999999999',\n",
       " '-73.968992',\n",
       " '40.769545000000001',\n",
       " '-73.960554000000002',\n",
       " '40.77411',\n",
       " '-73.874624999999995',\n",
       " '40.720615000000002',\n",
       " '-74.009874999999994',\n",
       " '40.76305',\n",
       " '-73.969830999999999',\n",
       " '40.648605000000003',\n",
       " '-73.784819999999996',\n",
       " '40.730874999999997',\n",
       " '-74.001526999999996',\n",
       " '40.763843000000001',\n",
       " '-73.928025000000005',\n",
       " '40.759867',\n",
       " '-73.978350000000006',\n",
       " '40.773020000000002',\n",
       " '-73.981999999999999',\n",
       " '40.767437000000001',\n",
       " '-73.980957000000004',\n",
       " '40.795099999999998',\n",
       " '-73.97166',\n",
       " '40.780450000000002',\n",
       " '-73.980198000000001',\n",
       " '40.777608000000001',\n",
       " '-73.956815000000006',\n",
       " '40.783897000000003',\n",
       " '-73.952305999999993',\n",
       " '40.738436999999998',\n",
       " '-73.999685999999997',\n",
       " '40.766227000000001',\n",
       " '-73.980152000000004',\n",
       " '40.747199999999999',\n",
       " '-74.007947000000001',\n",
       " '40.729602',\n",
       " '-73.987031999999999',\n",
       " '40.747295000000001',\n",
       " '-74.000877000000003',\n",
       " '40.764276000000002',\n",
       " '-73.954283000000004',\n",
       " '40.717463000000002',\n",
       " '-74.005493999999999',\n",
       " '40.756667',\n",
       " '-73.967298',\n",
       " '40.723036',\n",
       " '-73.988782999999998',\n",
       " '40.742832',\n",
       " '-73.989063999999999',\n",
       " '40.759824999999999',\n",
       " '-73.970230999999998',\n",
       " '40.770567',\n",
       " '-73.954640999999995',\n",
       " '40.743564999999997',\n",
       " '-73.988827000000001',\n",
       " '40.761372000000001',\n",
       " '-73.982602',\n",
       " '40.725012',\n",
       " '-73.995491999999999',\n",
       " '40.751251000000003',\n",
       " '-73.975745000000003',\n",
       " '40.742522000000001',\n",
       " '-73.993291999999997',\n",
       " '40.762107',\n",
       " '-73.984790000000004',\n",
       " '40.787171000000001',\n",
       " '-73.953967000000006',\n",
       " '40.739887000000003',\n",
       " '-74.004942',\n",
       " '40.775297000000002',\n",
       " '-73.982005000000001',\n",
       " '40.743231999999999',\n",
       " '-73.983750999999998',\n",
       " '40.757385999999997',\n",
       " '-73.987252999999995',\n",
       " '40.749026999999998',\n",
       " '-73.983949999999993',\n",
       " '40.752384999999997',\n",
       " '-73.978313999999997',\n",
       " '40.721988000000003',\n",
       " '-73.986383000000004',\n",
       " '40.742421999999998',\n",
       " '-73.991082000000006',\n",
       " '40.735396000000001',\n",
       " '-73.993910999999997',\n",
       " '40.749873000000001',\n",
       " '-73.991592999999995',\n",
       " '40.779446999999998',\n",
       " '-73.962046999999998',\n",
       " '40.730843',\n",
       " '-74.006770000000003',\n",
       " '40.750115999999998',\n",
       " '-73.987503000000004',\n",
       " '40.701734000000002',\n",
       " '-74.011263',\n",
       " '40.726349999999996',\n",
       " '-73.977048999999994',\n",
       " '40.688701999999999',\n",
       " '-73.98921',\n",
       " '40.771385000000002',\n",
       " '-73.964669999999998',\n",
       " '40.715884000000003',\n",
       " '-73.959979000000004',\n",
       " '40.790045999999997',\n",
       " '-73.975065999999998',\n",
       " '40.764180000000003',\n",
       " '-73.978219999999993',\n",
       " '40.76041',\n",
       " '-73.987651999999997',\n",
       " '40.745646999999998',\n",
       " '-73.978274999999996',\n",
       " '40.793261000000001',\n",
       " '-73.940565000000007',\n",
       " '40.762110999999997',\n",
       " '-73.968438000000006',\n",
       " '40.747329999999998',\n",
       " '-73.996899999999997',\n",
       " '40.748860000000001',\n",
       " '-73.988665999999995',\n",
       " '40.730145',\n",
       " '-73.986395000000002',\n",
       " '40.75318',\n",
       " '-73.973151999999999',\n",
       " '40.829557000000001',\n",
       " '-73.837699000000001',\n",
       " '40.743102',\n",
       " '-73.973988000000006',\n",
       " '40.750444999999999',\n",
       " '-73.986739999999998',\n",
       " '40.743474999999997',\n",
       " '-73.923154999999994',\n",
       " '40.762751999999999',\n",
       " '-73.993035000000006',\n",
       " '40.765577',\n",
       " '-73.979713000000004',\n",
       " '40.750027000000003',\n",
       " '-73.898759999999996',\n",
       " '40.751947000000001',\n",
       " '-73.986142000000001',\n",
       " '40.719720000000002',\n",
       " '-74.008841000000004',\n",
       " '40.780790000000003',\n",
       " '-73.946522000000002',\n",
       " '40.751607',\n",
       " '-73.993448999999998',\n",
       " '40.745595000000002',\n",
       " '-73.988398000000004',\n",
       " '40.722450000000002',\n",
       " '-73.987290000000002',\n",
       " '40.702556999999999',\n",
       " '-73.934669999999997',\n",
       " '40.734659000000001',\n",
       " '-73.980040000000002',\n",
       " '40.764774000000003',\n",
       " '-73.992048999999994',\n",
       " '40.723515999999996',\n",
       " '-73.985065000000006',\n",
       " '40.781072000000002',\n",
       " '-73.983537999999996',\n",
       " '40.793005000000001',\n",
       " '-73.973026000000004',\n",
       " '40.721024999999997',\n",
       " '-73.993857000000006',\n",
       " '40.768497000000004',\n",
       " '-73.899784999999994',\n",
       " '40.807259999999999',\n",
       " '-73.954178999999996',\n",
       " '40.773715000000003',\n",
       " '-73.963908000000004',\n",
       " '40.780082',\n",
       " '-73.956843000000006',\n",
       " '40.741824000000001',\n",
       " '-73.982933000000003',\n",
       " '40.742111999999999',\n",
       " '-74.004671999999999',\n",
       " '40.725924999999997',\n",
       " '-74.007585000000006',\n",
       " '40.645718000000002',\n",
       " '-73.776764999999997',\n",
       " '40.718398000000001',\n",
       " '-73.994967000000003',\n",
       " '0',\n",
       " '0',\n",
       " '40.736342999999998',\n",
       " '-73.992890000000003',\n",
       " '40.753827000000001',\n",
       " '-73.994472000000002',\n",
       " '40.750692999999998',\n",
       " '-73.971834000000001',\n",
       " '40.745964000000001',\n",
       " '-73.991152',\n",
       " '40.740482',\n",
       " '-74.004041999999998',\n",
       " '0',\n",
       " '0',\n",
       " '40.803842000000003',\n",
       " '-73.966812000000004',\n",
       " '40.797632',\n",
       " '-73.969821999999994',\n",
       " '40.645322',\n",
       " '-73.776651999999999',\n",
       " '40.749206999999998',\n",
       " '-74.003232999999994',\n",
       " '40.765548000000003',\n",
       " '-73.983682999999999',\n",
       " '40.760289',\n",
       " '-73.931531000000007',\n",
       " '40.778967000000002',\n",
       " '-73.981767000000005',\n",
       " '40.758200000000002',\n",
       " '-73.973285000000004',\n",
       " '40.730708999999997',\n",
       " '-73.990504000000001',\n",
       " '40.745600000000003',\n",
       " '-73.978139999999996',\n",
       " '40.719470999999999',\n",
       " '-73.999779000000004',\n",
       " '40.756189999999997',\n",
       " '-73.974282000000002',\n",
       " '40.639541999999999',\n",
       " '-73.967915000000005',\n",
       " '40.783659999999998',\n",
       " '-73.974270000000004',\n",
       " '40.746400000000001',\n",
       " '-73.977710000000002',\n",
       " '40.727474999999998',\n",
       " '-73.985330000000005',\n",
       " '40.735014999999997',\n",
       " '-74.006023999999996',\n",
       " '0',\n",
       " '0',\n",
       " '0',\n",
       " '0',\n",
       " '40.754176000000001',\n",
       " '-74.044420000000002',\n",
       " '40.740112000000003',\n",
       " '-73.994986999999995',\n",
       " '40.719971999999999',\n",
       " '-73.987553000000005',\n",
       " '40.705170000000003',\n",
       " '-74.006986999999995',\n",
       " '40.789141999999998',\n",
       " '-73.970472000000001',\n",
       " '40.749115000000003',\n",
       " '-73.984182000000004',\n",
       " '40.764429999999997',\n",
       " '-73.992036999999996',\n",
       " '40.756476999999997',\n",
       " '-73.990471999999997',\n",
       " '40.746141999999999',\n",
       " '-73.984852000000004',\n",
       " '40.747855999999999',\n",
       " '-73.989087999999995',\n",
       " '40.772615000000002',\n",
       " '-73.964788999999996',\n",
       " '40.761912000000002',\n",
       " '-73.975274999999996',\n",
       " '40.740991000000001',\n",
       " '-74.005581000000006',\n",
       " '40.764114999999997',\n",
       " '-73.977069999999998',\n",
       " '40.728808000000001',\n",
       " '-73.987538000000001',\n",
       " '40.725510999999997',\n",
       " '-73.991952999999995',\n",
       " '40.768967000000004',\n",
       " '-73.954821999999993',\n",
       " '40.756520000000002',\n",
       " '-73.973926000000006',\n",
       " '40.751216999999997',\n",
       " '-73.970894999999999',\n",
       " '40.779556999999997',\n",
       " '-73.977187000000001',\n",
       " '40.771472000000003',\n",
       " '-73.875500000000002',\n",
       " '40.738320000000002',\n",
       " '-73.991799999999998',\n",
       " '40.643172',\n",
       " '-73.789034999999998',\n",
       " '40.769387000000002',\n",
       " '-73.953622999999993',\n",
       " '40.731752',\n",
       " '-74.000932000000006',\n",
       " '40.745874000000001',\n",
       " '-73.991095000000001',\n",
       " '40.767867000000003',\n",
       " '-73.963892999999999',\n",
       " '40.766244999999998',\n",
       " '-73.983540000000005',\n",
       " '40.753484999999998',\n",
       " '-73.973110000000005',\n",
       " '40.726596999999998',\n",
       " '-73.986165',\n",
       " '40.744599999999998',\n",
       " '-73.985231999999996',\n",
       " '40.756805999999997',\n",
       " '-73.969385000000003',\n",
       " '40.783447000000002',\n",
       " '-73.947282999999999',\n",
       " '40.758985000000003',\n",
       " '-73.989435',\n",
       " '40.645316000000001',\n",
       " '-73.776808000000003',\n",
       " '40.762867999999997',\n",
       " '-73.983232999999998',\n",
       " '40.761322',\n",
       " '-73.975755000000007',\n",
       " '40.771096999999997',\n",
       " '-73.865913000000006',\n",
       " '40.760195000000003',\n",
       " '-73.967307000000005',\n",
       " '40.732860000000002',\n",
       " '-74.000069999999994',\n",
       " '40.759520000000002',\n",
       " '-73.985488000000004',\n",
       " '40.821517',\n",
       " '-73.954177000000001',\n",
       " '40.734921999999997',\n",
       " '-73.990548000000004',\n",
       " '40.757593999999997',\n",
       " '-73.989530999999999',\n",
       " '40.748041999999998',\n",
       " '-73.880385000000004',\n",
       " '40.749569999999999',\n",
       " '-73.992772000000002',\n",
       " '40.759663000000003',\n",
       " '-73.981140999999994',\n",
       " '40.756397',\n",
       " '-73.966881999999998',\n",
       " '40.680779999999999',\n",
       " '-73.967735000000005',\n",
       " '40.749994000000001',\n",
       " '-73.994031000000007',\n",
       " '40.801350999999997',\n",
       " '-73.961518999999996',\n",
       " '40.766222999999997',\n",
       " '-73.981952000000007',\n",
       " '40.740045000000002',\n",
       " '-73.982178000000005',\n",
       " '40.801656999999999',\n",
       " '-73.934415000000001',\n",
       " '40.738722000000003',\n",
       " '-73.987026999999998',\n",
       " '40.742171999999997',\n",
       " '-74.008089999999996',\n",
       " '40.775632999999999',\n",
       " '-73.982330000000005',\n",
       " '40.792377000000002',\n",
       " '-73.967879999999994',\n",
       " '40.659956000000001',\n",
       " '-73.998419999999996',\n",
       " '40.765500000000003',\n",
       " '-73.975849999999994',\n",
       " '40.737997',\n",
       " '-73.992069000000001',\n",
       " '40.711466999999999',\n",
       " '-73.945824999999999',\n",
       " '0',\n",
       " '0',\n",
       " '40.710822',\n",
       " '-74.015591999999998',\n",
       " '40.763596999999997',\n",
       " '-73.979680000000002',\n",
       " '40.744276999999997',\n",
       " '-73.973006999999996',\n",
       " '40.774152000000001',\n",
       " '-73.873092',\n",
       " '40.773736',\n",
       " '-73.959905000000006',\n",
       " '40.740017999999999',\n",
       " '-74.005398999999997',\n",
       " '40.750093999999997',\n",
       " '-73.979116000000005',\n",
       " '40.741317000000002',\n",
       " '-73.983401999999998',\n",
       " '40.758850000000002',\n",
       " '-73.965817000000001',\n",
       " '40.687077000000002',\n",
       " '-73.990202999999994',\n",
       " '40.767049999999998',\n",
       " '-73.979221999999993',\n",
       " '40.722569999999997',\n",
       " '-73.997073',\n",
       " '40.779580000000003',\n",
       " '-73.957862000000006',\n",
       " '40.738500000000002',\n",
       " '-73.985299999999995',\n",
       " '40.770377000000003',\n",
       " '-73.982127000000006',\n",
       " '40.759059999999998',\n",
       " '-73.983681000000004',\n",
       " '40.689827000000001',\n",
       " '-73.992350000000002',\n",
       " '40.766367000000002',\n",
       " '-73.952442000000005',\n",
       " '40.717301999999997',\n",
       " '-73.998980000000003',\n",
       " '40.642817000000001',\n",
       " '-73.788911999999996',\n",
       " '40.766804',\n",
       " '-73.969071',\n",
       " '40.762317000000003',\n",
       " '-73.985929999999996',\n",
       " '40.734099000000001',\n",
       " '-73.999288000000007',\n",
       " '40.770736999999997',\n",
       " '-73.957142000000005',\n",
       " '40.724919',\n",
       " '-73.998966999999993',\n",
       " '40.729686999999998',\n",
       " '-73.998357999999996',\n",
       " '40.744083000000003',\n",
       " '-73.985686999999999',\n",
       " '40.726413000000001',\n",
       " '-73.977196000000006',\n",
       " '40.794009000000003',\n",
       " '-73.966721000000007',\n",
       " '40.745890000000003',\n",
       " '-73.994388000000001',\n",
       " '40.752839999999999',\n",
       " '-73.989232000000001',\n",
       " '40.777652000000003',\n",
       " '-73.959298000000004',\n",
       " '40.726934999999997',\n",
       " '-73.991668000000004',\n",
       " '40.749690000000001',\n",
       " '-73.977509999999995',\n",
       " '40.709355000000002',\n",
       " '-74.016717',\n",
       " '40.750098999999999',\n",
       " '-73.991249999999994',\n",
       " '40.777512999999999',\n",
       " '-73.948801000000003',\n",
       " '40.645339999999997',\n",
       " '-73.776679999999999',\n",
       " '40.794572000000002',\n",
       " '-73.972049999999996',\n",
       " '40.760840000000002',\n",
       " '-73.971439000000004',\n",
       " '40.758901999999999',\n",
       " '-73.979668000000004',\n",
       " '40.756081999999999',\n",
       " '-73.976394999999997',\n",
       " '40.746631000000001',\n",
       " '-73.981899999999996',\n",
       " '40.787612000000003',\n",
       " '-73.977033000000006',\n",
       " '40.748874999999998',\n",
       " '-73.982344999999995',\n",
       " '0',\n",
       " '0',\n",
       " '40.734923999999999',\n",
       " '-73.989973000000006',\n",
       " '40.755682',\n",
       " '-73.979287999999997',\n",
       " '40.757465000000003',\n",
       " '-73.963751999999999',\n",
       " '40.751162999999998',\n",
       " '-73.994114999999994',\n",
       " '40.754707000000003',\n",
       " '-73.986172999999994',\n",
       " '40.768512000000001',\n",
       " '-73.965495000000004',\n",
       " '40.770792',\n",
       " '-73.961915000000005',\n",
       " '40.780672000000003',\n",
       " '-73.952652999999998',\n",
       " '40.733567999999998',\n",
       " '-73.995547000000002',\n",
       " '40.749980000000001',\n",
       " '-73.991789999999995',\n",
       " '40.722349999999999',\n",
       " '-73.986202000000006',\n",
       " '40.770809999999997',\n",
       " '-73.956902999999997',\n",
       " '40.771152000000001',\n",
       " '-73.956720000000004',\n",
       " '40.790776999999999',\n",
       " '-73.973482000000004',\n",
       " '40.716231999999998',\n",
       " '-74.013591000000005',\n",
       " '40.74277',\n",
       " '-73.984522999999996',\n",
       " '40.726790999999999',\n",
       " '-73.999842000000001',\n",
       " '40.774934999999999',\n",
       " '-73.963838999999993',\n",
       " '40.752831999999998',\n",
       " '-73.979422999999997',\n",
       " '40.732782999999998',\n",
       " '-73.985831000000005',\n",
       " '40.751759999999997',\n",
       " '-73.986137999999997',\n",
       " '40.772826999999999',\n",
       " '-73.981566999999998',\n",
       " '40.786304999999999',\n",
       " '-73.977740999999995',\n",
       " '40.719859999999997',\n",
       " '-74.010210000000001',\n",
       " '40.748193000000001',\n",
       " '-73.984714999999994',\n",
       " '40.734642000000001',\n",
       " '-73.992514999999997',\n",
       " '40.758495000000003',\n",
       " '-73.981589999999997',\n",
       " '40.750711000000003',\n",
       " '-73.991912999999997',\n",
       " '40.751085000000003',\n",
       " '-73.990381999999997',\n",
       " '40.696646999999999',\n",
       " '-73.991519999999994',\n",
       " '40.766092',\n",
       " '-73.982631999999995',\n",
       " '40.772930000000002',\n",
       " '-73.885249999999999',\n",
       " '40.644032000000003',\n",
       " '-73.790294000000003',\n",
       " '40.758260999999997',\n",
       " '-73.970859000000004',\n",
       " '40.778391999999997',\n",
       " '-73.985658000000001',\n",
       " '40.758372000000001',\n",
       " '-73.963047000000003',\n",
       " '40.752788000000002',\n",
       " '-73.975127999999998',\n",
       " '40.741971999999997',\n",
       " '-74.007642000000004',\n",
       " '40.764972',\n",
       " '-73.977855000000005',\n",
       " '40.742227',\n",
       " '-73.982747000000003',\n",
       " '40.743594000000002',\n",
       " '-73.979374000000007',\n",
       " '40.774852000000003',\n",
       " '-73.961214999999996',\n",
       " '40.786656999999998',\n",
       " '-73.975742999999994',\n",
       " '40.731236000000003',\n",
       " '-74.001455000000007',\n",
       " '40.724196999999997',\n",
       " '-73.978797',\n",
       " '40.735686999999999',\n",
       " '-74.005065000000002',\n",
       " '40.724007',\n",
       " '-73.978812000000005',\n",
       " '40.751961999999999',\n",
       " '-73.993917999999994',\n",
       " '40.744422',\n",
       " '-73.976127000000005',\n",
       " '40.769440000000003',\n",
       " '-73.952025000000006',\n",
       " '40.755972',\n",
       " '-73.972346999999999',\n",
       " '40.782482000000002',\n",
       " '-73.957812000000004',\n",
       " '40.739142000000001',\n",
       " '-74.008070000000004',\n",
       " '40.752412',\n",
       " '-73.977266999999998',\n",
       " '0',\n",
       " '0',\n",
       " '40.771168000000003',\n",
       " '-73.963928999999993',\n",
       " '40.756005000000002',\n",
       " '-73.973293999999996',\n",
       " '40.778415000000003',\n",
       " '-73.945391999999998',\n",
       " '40.766652999999998',\n",
       " '-73.957138',\n",
       " '40.746032',\n",
       " '-73.979759999999999',\n",
       " '40.763351999999998',\n",
       " '-73.996385000000004',\n",
       " '40.755782000000004',\n",
       " '-73.983322000000001',\n",
       " '40.769837000000003',\n",
       " '-73.982024999999993',\n",
       " '40.773009000000002',\n",
       " '-73.885268999999994',\n",
       " '40.799458000000001',\n",
       " '-73.968138999999994',\n",
       " '40.777555',\n",
       " '-73.961236999999997',\n",
       " '40.804090000000002',\n",
       " '-73.966942000000003',\n",
       " '40.713948000000002',\n",
       " '-73.951672000000002',\n",
       " '40.741453',\n",
       " '-74.006440999999995',\n",
       " '40.798580000000001',\n",
       " '-73.969018000000005',\n",
       " '40.721519000000001',\n",
       " '-73.956164999999999',\n",
       " '40.744340999999999',\n",
       " '-74.006568000000001',\n",
       " '40.750106000000002',\n",
       " '-73.991394999999997',\n",
       " '40.815817000000003',\n",
       " '-73.958397000000005',\n",
       " '40.772255000000001',\n",
       " '-73.982506999999998',\n",
       " '40.756411999999997',\n",
       " '-73.967363000000006',\n",
       " '40.729556000000002',\n",
       " '-73.993309999999994',\n",
       " '40.774627000000002',\n",
       " '-73.957909000000001',\n",
       " '40.744418000000003',\n",
       " '-73.983520999999996',\n",
       " '40.795952999999997',\n",
       " '-73.970738999999995',\n",
       " '40.735785',\n",
       " '-74.006038000000004',\n",
       " '40.741275000000002',\n",
       " '-73.981362000000004',\n",
       " '40.759036999999999',\n",
       " '-73.968693000000002',\n",
       " '40.764200000000002',\n",
       " '-73.954807000000002',\n",
       " '40.779383000000003',\n",
       " '-73.959549999999993',\n",
       " '40.726379999999999',\n",
       " '-74.001999999999995',\n",
       " '40.716735999999997',\n",
       " '-73.997696000000005',\n",
       " '40.751871999999999',\n",
       " '-73.987503000000004',\n",
       " '40.774462',\n",
       " '-73.988551999999999',\n",
       " '40.748207999999998',\n",
       " '-74.005308999999997',\n",
       " '40.756053999999999',\n",
       " '-74.005377999999993',\n",
       " '40.759193000000003',\n",
       " '-73.977230000000006',\n",
       " '40.743899999999996',\n",
       " '-73.999577000000002',\n",
       " '40.712612',\n",
       " '-73.958820000000003',\n",
       " '40.751285000000003',\n",
       " '-73.971199999999996',\n",
       " '40.75262',\n",
       " '-73.986310000000003',\n",
       " '40.728884999999998',\n",
       " '-74.000534000000002',\n",
       " '40.753301999999998',\n",
       " '-73.979382000000001',\n",
       " '40.759794999999997',\n",
       " '-73.968202000000005',\n",
       " '40.727367999999998',\n",
       " '-74.006200000000007',\n",
       " ...]"
      ]
     },
     "execution_count": 49,
     "metadata": {},
     "output_type": "execute_result"
    }
   ],
   "source": [
    "first_location = location(first_trip) # [40.64499, -73.78115]\n",
    "first_location # [40.64499, -73.78115]"
   ]
  },
  {
   "cell_type": "markdown",
   "metadata": {},
   "source": [
    "Ok, now that we can turn a trip into a location, let's turn a location into a marker.  Write a function called `to_marker` that takes in a location (in the form of a list) as an argument, and returns a folium `circleMarker` for that location.  The radius of the marker should always equal 6."
   ]
  },
  {
   "cell_type": "code",
   "execution_count": null,
   "metadata": {},
   "outputs": [],
   "source": [
    "def to_marker(location):\n",
    "    pass"
   ]
  },
  {
   "cell_type": "code",
   "execution_count": null,
   "metadata": {},
   "outputs": [],
   "source": [
    "import json\n",
    "times_square_marker = to_marker([40.7589, -73.9851])\n",
    "\n",
    "times_square_marker and times_square_marker.location # [40.7589, -73.9851]\n",
    "times_square_marker and json.loads(times_square_marker.options)['radius'] # 6"
   ]
  },
  {
   "cell_type": "markdown",
   "metadata": {},
   "source": [
    "Ok, now that we know how to produce a single marker, let's write a function to produce lots.  We can write a function called `markers_from_trips` that takes in a list of trips, and returns a marker object for each trip.  "
   ]
  },
  {
   "cell_type": "code",
   "execution_count": null,
   "metadata": {},
   "outputs": [],
   "source": [
    "def markers_from_trips(trips):\n",
    "    pass"
   ]
  },
  {
   "cell_type": "code",
   "execution_count": null,
   "metadata": {},
   "outputs": [],
   "source": [
    "trip_markers = markers_from_trips(cleaned_trips)"
   ]
  },
  {
   "cell_type": "code",
   "execution_count": null,
   "metadata": {},
   "outputs": [],
   "source": [
    "cleaned_trips[0:4]"
   ]
  },
  {
   "cell_type": "code",
   "execution_count": null,
   "metadata": {},
   "outputs": [],
   "source": [
    "trip_markers and len(trip_markers) # 1000\n",
    "\n",
    "list(map(lambda marker: marker.location, trip_markers[0:4]))\n",
    "# [[40.64499, -73.78115],\n",
    "#  [40.766931, -73.982098],\n",
    "#  [40.77773, -73.951902],\n",
    "#  [40.795678, -73.971049]]"
   ]
  },
  {
   "cell_type": "markdown",
   "metadata": {},
   "source": [
    "Ok, now that we have a function that creates locations, and a function that creates markers, it is time to write a function to plot a map. \n",
    "\n",
    "Write a function called `map_from` that, provided the first argument of a list location and second argument an integer representing the `zoom_start`, returns a `folium` map the corresponding location and `zoom_start` attributes.\n",
    "\n",
    "> Hint: The following is how to write a map with folium:\n",
    "> ```python \n",
    "    folium.Map(location=location, zoom_start=zoom_amount)\n",
    "> ```"
   ]
  },
  {
   "cell_type": "code",
   "execution_count": null,
   "metadata": {},
   "outputs": [],
   "source": [
    "def map_from(location, zoom_amount):\n",
    "    pass"
   ]
  },
  {
   "cell_type": "code",
   "execution_count": null,
   "metadata": {},
   "outputs": [],
   "source": [
    "times_square_map = map_from([40.7589, -73.9851], 15)\n",
    "times_square_map and times_square_map.location # [40.7589, -73.9851]\n",
    "times_square_map and times_square_map.zoom_start # 15"
   ]
  },
  {
   "cell_type": "code",
   "execution_count": null,
   "metadata": {
    "scrolled": true
   },
   "outputs": [],
   "source": [
    "times_square_marker and times_square_marker.add_to(times_square_map)\n",
    "times_square_map"
   ]
  },
  {
   "cell_type": "markdown",
   "metadata": {},
   "source": [
    "Now that we have a marker and a map, now let's write a function that adds a lot of markers to a map.  This function should add each marker in the list to the map object then return the updated map object."
   ]
  },
  {
   "cell_type": "code",
   "execution_count": null,
   "metadata": {},
   "outputs": [],
   "source": [
    "manhattan_map = map_from([40.7589, -73.9851], 13)"
   ]
  },
  {
   "cell_type": "code",
   "execution_count": null,
   "metadata": {},
   "outputs": [],
   "source": [
    "def add_markers(markers, map_obj):\n",
    "    pass"
   ]
  },
  {
   "cell_type": "code",
   "execution_count": null,
   "metadata": {
    "scrolled": false
   },
   "outputs": [],
   "source": [
    "map_with_markers = add_markers(trip_markers, manhattan_map)"
   ]
  },
  {
   "cell_type": "code",
   "execution_count": null,
   "metadata": {},
   "outputs": [],
   "source": [
    "map_with_markers"
   ]
  },
  {
   "cell_type": "markdown",
   "metadata": {},
   "source": [
    "### Using Nearest Neighbors"
   ]
  },
  {
   "cell_type": "markdown",
   "metadata": {},
   "source": [
    "Ok, let's write a function that given a latitude and longitude will predict the distance for us.  We'll do this by first finding the nearest trips given a latitude and longitude. "
   ]
  },
  {
   "cell_type": "markdown",
   "metadata": {},
   "source": [
    "Here we once again apply the nearest neighbors formula. As a first step, write a function named `distance_location` that calculates the distance in pickup location between two trips."
   ]
  },
  {
   "cell_type": "code",
   "execution_count": null,
   "metadata": {},
   "outputs": [],
   "source": [
    "import math\n",
    "\n",
    "def distance_location(selected_trip, neighbor_trip):\n",
    "    pass"
   ]
  },
  {
   "cell_type": "code",
   "execution_count": null,
   "metadata": {},
   "outputs": [],
   "source": [
    "first_trip = {'pickup_latitude': 40.64499, 'pickup_longitude': -73.78115, 'trip_distance': 18.38}\n",
    "second_trip = {'pickup_latitude': 40.766931, 'pickup_longitude': -73.982098, 'trip_distance': 1.3}\n",
    "distance_first_and_second = distance_location(first_trip, second_trip)\n",
    "\n",
    "distance_first_and_second and round(distance_first_and_second, 3) # 0.235"
   ]
  },
  {
   "cell_type": "markdown",
   "metadata": {},
   "source": [
    "Ok, next write a function called `distance_between_neighbors` that adds a new key-value pair, called `distance_from_selected`, that calculates the distance of the `neighbor_trip` from the `selected_trip`."
   ]
  },
  {
   "cell_type": "code",
   "execution_count": null,
   "metadata": {},
   "outputs": [],
   "source": [
    "def distance_between_neighbors(selected_trip, neighbor_trip):\n",
    "    pass"
   ]
  },
  {
   "cell_type": "code",
   "execution_count": null,
   "metadata": {},
   "outputs": [],
   "source": [
    "distance_between_neighbors(first_trip, second_trip)\n",
    "\n",
    "# {'distance_from_selected': 0.23505256047318146,\n",
    "#  'pickup_latitude': 40.766931,\n",
    "#  'pickup_longitude': -73.982098,\n",
    "#  'trip_distance': 1.3}"
   ]
  },
  {
   "cell_type": "markdown",
   "metadata": {},
   "source": [
    "Ok, now our `neighbor_trip` has another attribute called `distance_from_selected`, that indicates the distance from the `neighbor_trip`'s pickup location from the `selected_trip`."
   ]
  },
  {
   "cell_type": "markdown",
   "metadata": {},
   "source": [
    "> ** Understand the data:** Our dictionary now has a few attributes, two of which say distance.  Let's make sure we understand the difference. \n",
    "> * **`distance_from_selected`:** This is our calculation of the distance of the neighbor's pickup location from the selected trip.\n",
    "> * **`trip_distance`:** This is the attribute we were provided initially.  It tells us the length of the neighbor's taxi trip from pickup to drop-off.  "
   ]
  },
  {
   "cell_type": "markdown",
   "metadata": {},
   "source": [
    "Next, write a function called `distance_all` that provided a list of neighbors, returns each of those neighbors with their respective `distance_from_selected` numbers."
   ]
  },
  {
   "cell_type": "code",
   "execution_count": null,
   "metadata": {},
   "outputs": [],
   "source": [
    "def distance_all(selected_individual, neighbors):\n",
    "    pass"
   ]
  },
  {
   "cell_type": "code",
   "execution_count": null,
   "metadata": {},
   "outputs": [],
   "source": [
    "cleaned_trips and distance_all(first_trip, cleaned_trips[0:4])"
   ]
  },
  {
   "cell_type": "markdown",
   "metadata": {},
   "source": [
    "Now write the nearest neighbors formula to calculate the distance of the `selected_trip` from all of the `cleaned_trips` in our dataset.  If no number is provided, it should return the top 3 neighbors."
   ]
  },
  {
   "cell_type": "code",
   "execution_count": null,
   "metadata": {},
   "outputs": [],
   "source": [
    "def nearest_neighbors(selected_trip, trips, number = 3):\n",
    "    pass"
   ]
  },
  {
   "cell_type": "code",
   "execution_count": null,
   "metadata": {},
   "outputs": [],
   "source": [
    "new_trip = {'pickup_latitude': 40.64499,\n",
    "'pickup_longitude': -73.78115,\n",
    "'trip_distance': 18.38}\n",
    "\n",
    "nearest_three_neighbors = nearest_neighbors(new_trip, cleaned_trips or [], number = 3)\n",
    "nearest_three_neighbors\n",
    "# [{'distance_from_selected': 0.0004569288784918792,\n",
    "#   'pickup_latitude': 40.64483,\n",
    "#   'pickup_longitude': -73.781578,\n",
    "#   'trip_distance': 7.78},\n",
    "#  {'distance_from_selected': 0.0011292165425673159,\n",
    "#   'pickup_latitude': 40.644657,\n",
    "#   'pickup_longitude': -73.782229,\n",
    "#   'trip_distance': 12.7},\n",
    "#  {'distance_from_selected': 0.0042359798158141185,\n",
    "#   'pickup_latitude': 40.648509,\n",
    "#   'pickup_longitude': -73.783508,\n",
    "#   'trip_distance': 17.3}]"
   ]
  },
  {
   "cell_type": "markdown",
   "metadata": {},
   "source": [
    "Ok great! Now that we can provide a new trip location, and find the distances of the three nearest trips, we can take  calculate an estimate of the trip distance for that new trip location.  \n",
    "\n",
    "We do so simply by calculating the average of it's nearest neighbors."
   ]
  },
  {
   "cell_type": "code",
   "execution_count": null,
   "metadata": {},
   "outputs": [],
   "source": [
    "import statistics\n",
    "def mean_distance(neighbors):\n",
    "    nearest_distances = list(map(lambda neighbor: neighbor['trip_distance'], neighbors))\n",
    "    return round(statistics.mean(nearest_distances), 3)\n",
    "\n",
    "nearest_three_neighbors = nearest_neighbors(new_trip, cleaned_trips or [], number = 3)\n",
    "distance_estimate_of_selected_trip = mean_distance(nearest_three_neighbors) # 12.593\n",
    "distance_estimate_of_selected_trip"
   ]
  },
  {
   "cell_type": "markdown",
   "metadata": {},
   "source": [
    "### Choosing the correct number of neighbors"
   ]
  },
  {
   "cell_type": "markdown",
   "metadata": {},
   "source": [
    "Now, as we know from the last lesson, one tricky element is to determine how many neighbors to choose, our $k$ value,  before calculating the average.  We want to choose our value of $k$ such that it properly matches actual data, and so that it applies to new data.  There are fancy formulas to ensure that we **train** our algorithm so that our formula is optimized for all data, but here let's see different $k$ values manually.  This is the gist of choosing our $k$ value:\n",
    "\n",
    "* If we choose a $k$ value too low, our formula will be too heavily influenced by a single neighbor, whereas if our $k$ value is too high, we will be choosing so many neighbors that our nearest neighbors formula will not be adjust enough according to locations.\n",
    "\n",
    "Ok, let's experiment with this."
   ]
  },
  {
   "cell_type": "markdown",
   "metadata": {},
   "source": [
    "First, let's choose a midtown location, to see what the trip distance would be.  A Google search reveals the coordinates of 51st and 7th avenue to be the following."
   ]
  },
  {
   "cell_type": "code",
   "execution_count": null,
   "metadata": {},
   "outputs": [],
   "source": [
    "midtown_trip = dict(pickup_latitude=40.761710, pickup_longitude=-73.982760)"
   ]
  },
  {
   "cell_type": "code",
   "execution_count": null,
   "metadata": {},
   "outputs": [],
   "source": [
    "seven_closest = nearest_neighbors(midtown_trip, cleaned_trips, number = 7)\n",
    "seven_closest\n",
    "# [{'trip_distance': 0.58,\n",
    "#   'pickup_latitude': 40.761372,\n",
    "#   'pickup_longitude': -73.982602,\n",
    "#   'distance_from_selected': 0.00037310588309379025},\n",
    "#  {'trip_distance': 0.8,\n",
    "#   'pickup_latitude': 40.762444,\n",
    "#   'pickup_longitude': -73.98244,\n",
    "#   'distance_from_selected': 0.00080072217404248},\n",
    "#  {'trip_distance': 1.4,\n",
    "#   'pickup_latitude': 40.762767,\n",
    "#   'pickup_longitude': -73.982293,\n",
    "#   'distance_from_selected': 0.0011555682584735844},\n",
    "#  {'trip_distance': 8.3,\n",
    "#   'pickup_latitude': 40.762868,\n",
    "#   'pickup_longitude': -73.983233,\n",
    "#   'distance_from_selected': 0.0012508768924205918},\n",
    "#  {'trip_distance': 1.26,\n",
    "#   'pickup_latitude': 40.760057,\n",
    "#   'pickup_longitude': -73.983502,\n",
    "#   'distance_from_selected': 0.0018118976240381972},\n",
    "#  {'trip_distance': 0.0,\n",
    "#   'pickup_latitude': 40.760644,\n",
    "#   'pickup_longitude': -73.984531,\n",
    "#   'distance_from_selected': 0.002067074502774709},\n",
    "#  {'trip_distance': 1.72,\n",
    "#   'pickup_latitude': 40.762107,\n",
    "#   'pickup_longitude': -73.98479,\n",
    "#   'distance_from_selected': 0.0020684557041472677}]"
   ]
  },
  {
   "cell_type": "markdown",
   "metadata": {},
   "source": [
    "Looking at the `distance_from_selected` it appears that our our trips are still fairly close to our selected trip.  Notice that most of the data is within a distance of .002 away, so going to the top 7 nearest neighbors didn't seem to give us neighbors too far from each other, which is a good sign.\n",
    "\n",
    "Still, it's hard to know what distance in latitude and longitude really look like, so let's map the data. "
   ]
  },
  {
   "cell_type": "code",
   "execution_count": null,
   "metadata": {},
   "outputs": [],
   "source": [
    "midtown_location = location(midtown_trip) # [40.76171, -73.98276]\n",
    "midtown_map = map_from(midtown_location, 16)\n",
    "closest_markers = markers_from_trips(seven_closest)\n",
    "\n",
    "add_markers(closest_markers, midtown_map)"
   ]
  },
  {
   "cell_type": "markdown",
   "metadata": {},
   "source": [
    "Ok.  These locations stay fairly close to our estimated location of 51st street and 7th Avenue.  So they could be a good estimate of a trip distance."
   ]
  },
  {
   "cell_type": "code",
   "execution_count": null,
   "metadata": {},
   "outputs": [],
   "source": [
    "mean_distance(seven_closest) # 2.009"
   ]
  },
  {
   "cell_type": "markdown",
   "metadata": {},
   "source": [
    "Ok, now let's try a different location"
   ]
  },
  {
   "cell_type": "code",
   "execution_count": null,
   "metadata": {},
   "outputs": [],
   "source": [
    "charging_bull_closest = nearest_neighbors({'pickup_latitude': 40.7049, 'pickup_longitude': -74.0137}, cleaned_trips, number = 12)"
   ]
  },
  {
   "cell_type": "code",
   "execution_count": null,
   "metadata": {
    "scrolled": true
   },
   "outputs": [],
   "source": [
    "mean_distance(charging_bull_closest) # 3.145"
   ]
  },
  {
   "cell_type": "markdown",
   "metadata": {},
   "source": [
    "Ok, so there appears to be a significant difference between choosing a location near Times Square versus choosing a location at Wall Street."
   ]
  },
  {
   "cell_type": "markdown",
   "metadata": {},
   "source": [
    "### Summary"
   ]
  },
  {
   "cell_type": "markdown",
   "metadata": {},
   "source": [
    "In this lab, we used the nearest neighbors function to predict the length of a taxi ride.  To do so, we selected a location, then found a number of taxi rides closest to that location, and finally took the average trip lengths of the nearest taxi rides to find an estimate of the new ride's trip length.  You can see that even with just a little bit of math and programming we can begin to make meaningful predictions with data."
   ]
  }
 ],
 "metadata": {
  "kernelspec": {
   "display_name": "Python 3",
   "language": "python",
   "name": "python3"
  },
  "language_info": {
   "codemirror_mode": {
    "name": "ipython",
    "version": 3
   },
   "file_extension": ".py",
   "mimetype": "text/x-python",
   "name": "python",
   "nbconvert_exporter": "python",
   "pygments_lexer": "ipython3",
   "version": "3.6.9"
  }
 },
 "nbformat": 4,
 "nbformat_minor": 2
}
